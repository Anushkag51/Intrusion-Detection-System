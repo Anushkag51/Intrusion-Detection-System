{
 "cells": [
  {
   "cell_type": "code",
   "execution_count": 42,
   "id": "0c6c00cf",
   "metadata": {},
   "outputs": [],
   "source": [
    "import pandas as pd\n",
    "import numpy as np\n",
    "import matplotlib.pyplot as plt\n",
    "import joblib\n",
    "import sklearn\n",
    "from sklearn.preprocessing import MinMaxScaler\n",
    "from sklearn.ensemble import RandomForestClassifier\n",
    "from sklearn.model_selection import GridSearchCV, train_test_split\n",
    "from sklearn.metrics import accuracy_score, classification_report, confusion_matrix\n",
    "from sklearn.utils import class_weight\n",
    "from matplotlib import style\n",
    "from sklearn.metrics import confusion_matrix, classification_report, accuracy_score, ConfusionMatrixDisplay\n",
    "from sklearn.preprocessing import StandardScaler\n",
    "from sklearn.linear_model import LogisticRegression\n",
    "from sklearn.tree import DecisionTreeClassifier\n",
    "from sklearn.ensemble import RandomForestClassifier\n"
   ]
  },
  {
   "cell_type": "code",
   "execution_count": 2,
   "id": "f8680989",
   "metadata": {},
   "outputs": [],
   "source": [
    "df1 = pd.read_csv(\"C:\\\\Users\\\\dell\\\\OneDrive\\\\Documents\\\\datasets\\\\Dataset 1.csv\")\n",
    "df2 = pd.read_csv(\"C:\\\\Users\\\\dell\\\\OneDrive\\\\Documents\\\\datasets\\\\Dataset 2.csv\")\n",
    "df3 = pd.read_csv(\"C:\\\\Users\\\\dell\\\\OneDrive\\\\Documents\\\\datasets\\\\Dataset 3.csv\")\n",
    "df4 = pd.read_csv(\"C:\\\\Users\\\\dell\\\\OneDrive\\\\Documents\\\\datasets\\\\Dataset 4.csv\")"
   ]
  },
  {
   "cell_type": "code",
   "execution_count": 3,
   "id": "f55fee2c",
   "metadata": {},
   "outputs": [
    {
     "data": {
      "text/html": [
       "<div>\n",
       "<style scoped>\n",
       "    .dataframe tbody tr th:only-of-type {\n",
       "        vertical-align: middle;\n",
       "    }\n",
       "\n",
       "    .dataframe tbody tr th {\n",
       "        vertical-align: top;\n",
       "    }\n",
       "\n",
       "    .dataframe thead th {\n",
       "        text-align: right;\n",
       "    }\n",
       "</style>\n",
       "<table border=\"1\" class=\"dataframe\">\n",
       "  <thead>\n",
       "    <tr style=\"text-align: right;\">\n",
       "      <th></th>\n",
       "      <th>avg_ipt</th>\n",
       "      <th>bytes_in</th>\n",
       "      <th>bytes_out</th>\n",
       "      <th>dest_ip</th>\n",
       "      <th>dest_port</th>\n",
       "      <th>entropy</th>\n",
       "      <th>num_pkts_out</th>\n",
       "      <th>num_pkts_in</th>\n",
       "      <th>proto</th>\n",
       "      <th>src_ip</th>\n",
       "      <th>src_port</th>\n",
       "      <th>time_end</th>\n",
       "      <th>time_start</th>\n",
       "      <th>total_entropy</th>\n",
       "      <th>label</th>\n",
       "      <th>duration</th>\n",
       "    </tr>\n",
       "  </thead>\n",
       "  <tbody>\n",
       "    <tr>\n",
       "      <th>0</th>\n",
       "      <td>52.50</td>\n",
       "      <td>270</td>\n",
       "      <td>191</td>\n",
       "      <td>786</td>\n",
       "      <td>445.0</td>\n",
       "      <td>4.588516</td>\n",
       "      <td>6</td>\n",
       "      <td>6</td>\n",
       "      <td>6</td>\n",
       "      <td>47331</td>\n",
       "      <td>56965.0</td>\n",
       "      <td>1594168229367522</td>\n",
       "      <td>1594168228968772</td>\n",
       "      <td>2115.305700</td>\n",
       "      <td>malicious</td>\n",
       "      <td>0.398750</td>\n",
       "    </tr>\n",
       "    <tr>\n",
       "      <th>1</th>\n",
       "      <td>50.25</td>\n",
       "      <td>270</td>\n",
       "      <td>191</td>\n",
       "      <td>786</td>\n",
       "      <td>445.0</td>\n",
       "      <td>4.588516</td>\n",
       "      <td>6</td>\n",
       "      <td>6</td>\n",
       "      <td>6</td>\n",
       "      <td>47331</td>\n",
       "      <td>57217.0</td>\n",
       "      <td>1594168231492958</td>\n",
       "      <td>1594168231104076</td>\n",
       "      <td>2115.305700</td>\n",
       "      <td>malicious</td>\n",
       "      <td>0.388882</td>\n",
       "    </tr>\n",
       "    <tr>\n",
       "      <th>2</th>\n",
       "      <td>50.00</td>\n",
       "      <td>270</td>\n",
       "      <td>191</td>\n",
       "      <td>786</td>\n",
       "      <td>445.0</td>\n",
       "      <td>4.588516</td>\n",
       "      <td>6</td>\n",
       "      <td>6</td>\n",
       "      <td>6</td>\n",
       "      <td>47331</td>\n",
       "      <td>57294.0</td>\n",
       "      <td>1594168232099461</td>\n",
       "      <td>1594168231710708</td>\n",
       "      <td>2115.305700</td>\n",
       "      <td>malicious</td>\n",
       "      <td>0.388753</td>\n",
       "    </tr>\n",
       "    <tr>\n",
       "      <th>3</th>\n",
       "      <td>0.00</td>\n",
       "      <td>56</td>\n",
       "      <td>56</td>\n",
       "      <td>786</td>\n",
       "      <td>NaN</td>\n",
       "      <td>1.020244</td>\n",
       "      <td>1</td>\n",
       "      <td>1</td>\n",
       "      <td>1</td>\n",
       "      <td>55960</td>\n",
       "      <td>NaN</td>\n",
       "      <td>1594168231421839</td>\n",
       "      <td>159416823142178</td>\n",
       "      <td>114.267365</td>\n",
       "      <td>outlier</td>\n",
       "      <td>0.000059</td>\n",
       "    </tr>\n",
       "    <tr>\n",
       "      <th>4</th>\n",
       "      <td>53.75</td>\n",
       "      <td>270</td>\n",
       "      <td>191</td>\n",
       "      <td>786</td>\n",
       "      <td>445.0</td>\n",
       "      <td>4.588516</td>\n",
       "      <td>6</td>\n",
       "      <td>6</td>\n",
       "      <td>6</td>\n",
       "      <td>47331</td>\n",
       "      <td>57325.0</td>\n",
       "      <td>1594168232419566</td>\n",
       "      <td>1594168232008625</td>\n",
       "      <td>2115.305700</td>\n",
       "      <td>malicious</td>\n",
       "      <td>0.410941</td>\n",
       "    </tr>\n",
       "  </tbody>\n",
       "</table>\n",
       "</div>"
      ],
      "text/plain": [
       "   avg_ipt  bytes_in  bytes_out  dest_ip  dest_port   entropy  num_pkts_out  \\\n",
       "0    52.50       270        191      786      445.0  4.588516             6   \n",
       "1    50.25       270        191      786      445.0  4.588516             6   \n",
       "2    50.00       270        191      786      445.0  4.588516             6   \n",
       "3     0.00        56         56      786        NaN  1.020244             1   \n",
       "4    53.75       270        191      786      445.0  4.588516             6   \n",
       "\n",
       "   num_pkts_in  proto  src_ip  src_port          time_end        time_start  \\\n",
       "0            6      6   47331   56965.0  1594168229367522  1594168228968772   \n",
       "1            6      6   47331   57217.0  1594168231492958  1594168231104076   \n",
       "2            6      6   47331   57294.0  1594168232099461  1594168231710708   \n",
       "3            1      1   55960       NaN  1594168231421839   159416823142178   \n",
       "4            6      6   47331   57325.0  1594168232419566  1594168232008625   \n",
       "\n",
       "   total_entropy      label  duration  \n",
       "0    2115.305700  malicious  0.398750  \n",
       "1    2115.305700  malicious  0.388882  \n",
       "2    2115.305700  malicious  0.388753  \n",
       "3     114.267365    outlier  0.000059  \n",
       "4    2115.305700  malicious  0.410941  "
      ]
     },
     "execution_count": 3,
     "metadata": {},
     "output_type": "execute_result"
    }
   ],
   "source": [
    "df1.head()"
   ]
  },
  {
   "cell_type": "code",
   "execution_count": 4,
   "id": "426e8dcd",
   "metadata": {},
   "outputs": [
    {
     "data": {
      "text/html": [
       "<div>\n",
       "<style scoped>\n",
       "    .dataframe tbody tr th:only-of-type {\n",
       "        vertical-align: middle;\n",
       "    }\n",
       "\n",
       "    .dataframe tbody tr th {\n",
       "        vertical-align: top;\n",
       "    }\n",
       "\n",
       "    .dataframe thead th {\n",
       "        text-align: right;\n",
       "    }\n",
       "</style>\n",
       "<table border=\"1\" class=\"dataframe\">\n",
       "  <thead>\n",
       "    <tr style=\"text-align: right;\">\n",
       "      <th></th>\n",
       "      <th>avg_ipt</th>\n",
       "      <th>bytes_in</th>\n",
       "      <th>bytes_out</th>\n",
       "      <th>dest_ip</th>\n",
       "      <th>dest_port</th>\n",
       "      <th>entropy</th>\n",
       "      <th>num_pkts_out</th>\n",
       "      <th>num_pkts_in</th>\n",
       "      <th>proto</th>\n",
       "      <th>src_ip</th>\n",
       "      <th>src_port</th>\n",
       "      <th>time_end</th>\n",
       "      <th>time_start</th>\n",
       "      <th>total_entropy</th>\n",
       "      <th>label</th>\n",
       "      <th>duration</th>\n",
       "    </tr>\n",
       "  </thead>\n",
       "  <tbody>\n",
       "    <tr>\n",
       "      <th>0</th>\n",
       "      <td>2716.142857</td>\n",
       "      <td>969</td>\n",
       "      <td>10051</td>\n",
       "      <td>786</td>\n",
       "      <td>9200</td>\n",
       "      <td>3.093910</td>\n",
       "      <td>7</td>\n",
       "      <td>7</td>\n",
       "      <td>6</td>\n",
       "      <td>786</td>\n",
       "      <td>56328</td>\n",
       "      <td>160946769170627</td>\n",
       "      <td>1609467672690358</td>\n",
       "      <td>34094.88700</td>\n",
       "      <td>benign</td>\n",
       "      <td>19.015911</td>\n",
       "    </tr>\n",
       "    <tr>\n",
       "      <th>1</th>\n",
       "      <td>1901.400000</td>\n",
       "      <td>967</td>\n",
       "      <td>23531</td>\n",
       "      <td>786</td>\n",
       "      <td>9200</td>\n",
       "      <td>1.642038</td>\n",
       "      <td>10</td>\n",
       "      <td>7</td>\n",
       "      <td>6</td>\n",
       "      <td>786</td>\n",
       "      <td>56324</td>\n",
       "      <td>1609467691706011</td>\n",
       "      <td>1609467672689065</td>\n",
       "      <td>40226.65200</td>\n",
       "      <td>benign</td>\n",
       "      <td>19.016947</td>\n",
       "    </tr>\n",
       "    <tr>\n",
       "      <th>2</th>\n",
       "      <td>907.312500</td>\n",
       "      <td>754</td>\n",
       "      <td>32742</td>\n",
       "      <td>786</td>\n",
       "      <td>9092</td>\n",
       "      <td>1.111004</td>\n",
       "      <td>32</td>\n",
       "      <td>20</td>\n",
       "      <td>6</td>\n",
       "      <td>786</td>\n",
       "      <td>57148</td>\n",
       "      <td>1609467701725488</td>\n",
       "      <td>1609467672683006</td>\n",
       "      <td>37214.20000</td>\n",
       "      <td>benign</td>\n",
       "      <td>29.042482</td>\n",
       "    </tr>\n",
       "    <tr>\n",
       "      <th>3</th>\n",
       "      <td>549.842105</td>\n",
       "      <td>588</td>\n",
       "      <td>13833</td>\n",
       "      <td>786</td>\n",
       "      <td>9300</td>\n",
       "      <td>2.344926</td>\n",
       "      <td>57</td>\n",
       "      <td>34</td>\n",
       "      <td>6</td>\n",
       "      <td>786</td>\n",
       "      <td>56998</td>\n",
       "      <td>1609467713462009</td>\n",
       "      <td>1609467682094405</td>\n",
       "      <td>33816.18400</td>\n",
       "      <td>benign</td>\n",
       "      <td>31.367603</td>\n",
       "    </tr>\n",
       "    <tr>\n",
       "      <th>4</th>\n",
       "      <td>4288.714286</td>\n",
       "      <td>0</td>\n",
       "      <td>224</td>\n",
       "      <td>15169</td>\n",
       "      <td>53</td>\n",
       "      <td>3.326140</td>\n",
       "      <td>7</td>\n",
       "      <td>0</td>\n",
       "      <td>17</td>\n",
       "      <td>786</td>\n",
       "      <td>46151</td>\n",
       "      <td>1609467715620521</td>\n",
       "      <td>1609467685597113</td>\n",
       "      <td>745.05536</td>\n",
       "      <td>benign</td>\n",
       "      <td>30.023409</td>\n",
       "    </tr>\n",
       "  </tbody>\n",
       "</table>\n",
       "</div>"
      ],
      "text/plain": [
       "       avg_ipt  bytes_in  bytes_out  dest_ip  dest_port   entropy  \\\n",
       "0  2716.142857       969      10051      786       9200  3.093910   \n",
       "1  1901.400000       967      23531      786       9200  1.642038   \n",
       "2   907.312500       754      32742      786       9092  1.111004   \n",
       "3   549.842105       588      13833      786       9300  2.344926   \n",
       "4  4288.714286         0        224    15169         53  3.326140   \n",
       "\n",
       "   num_pkts_out  num_pkts_in  proto  src_ip  src_port          time_end  \\\n",
       "0             7            7      6     786     56328   160946769170627   \n",
       "1            10            7      6     786     56324  1609467691706011   \n",
       "2            32           20      6     786     57148  1609467701725488   \n",
       "3            57           34      6     786     56998  1609467713462009   \n",
       "4             7            0     17     786     46151  1609467715620521   \n",
       "\n",
       "         time_start  total_entropy   label   duration  \n",
       "0  1609467672690358    34094.88700  benign  19.015911  \n",
       "1  1609467672689065    40226.65200  benign  19.016947  \n",
       "2  1609467672683006    37214.20000  benign  29.042482  \n",
       "3  1609467682094405    33816.18400  benign  31.367603  \n",
       "4  1609467685597113      745.05536  benign  30.023409  "
      ]
     },
     "execution_count": 4,
     "metadata": {},
     "output_type": "execute_result"
    }
   ],
   "source": [
    "df2.head()"
   ]
  },
  {
   "cell_type": "code",
   "execution_count": 5,
   "id": "54561c61",
   "metadata": {},
   "outputs": [
    {
     "data": {
      "text/html": [
       "<div>\n",
       "<style scoped>\n",
       "    .dataframe tbody tr th:only-of-type {\n",
       "        vertical-align: middle;\n",
       "    }\n",
       "\n",
       "    .dataframe tbody tr th {\n",
       "        vertical-align: top;\n",
       "    }\n",
       "\n",
       "    .dataframe thead th {\n",
       "        text-align: right;\n",
       "    }\n",
       "</style>\n",
       "<table border=\"1\" class=\"dataframe\">\n",
       "  <thead>\n",
       "    <tr style=\"text-align: right;\">\n",
       "      <th></th>\n",
       "      <th>avg_ipt</th>\n",
       "      <th>bytes_in</th>\n",
       "      <th>bytes_out</th>\n",
       "      <th>dest_ip</th>\n",
       "      <th>dest_port</th>\n",
       "      <th>entropy</th>\n",
       "      <th>num_pkts_out</th>\n",
       "      <th>num_pkts_in</th>\n",
       "      <th>proto</th>\n",
       "      <th>src_ip</th>\n",
       "      <th>src_port</th>\n",
       "      <th>time_end</th>\n",
       "      <th>time_start</th>\n",
       "      <th>total_entropy</th>\n",
       "      <th>label</th>\n",
       "      <th>duration</th>\n",
       "    </tr>\n",
       "  </thead>\n",
       "  <tbody>\n",
       "    <tr>\n",
       "      <th>0</th>\n",
       "      <td>0.0</td>\n",
       "      <td>0</td>\n",
       "      <td>0</td>\n",
       "      <td>786</td>\n",
       "      <td>31306.0</td>\n",
       "      <td>0.0</td>\n",
       "      <td>1</td>\n",
       "      <td>0</td>\n",
       "      <td>6</td>\n",
       "      <td>786</td>\n",
       "      <td>47613.0</td>\n",
       "      <td>1655074782132491</td>\n",
       "      <td>1655074782132491</td>\n",
       "      <td>0.0</td>\n",
       "      <td>outlier</td>\n",
       "      <td>0.0</td>\n",
       "    </tr>\n",
       "    <tr>\n",
       "      <th>1</th>\n",
       "      <td>0.0</td>\n",
       "      <td>0</td>\n",
       "      <td>0</td>\n",
       "      <td>786</td>\n",
       "      <td>24298.0</td>\n",
       "      <td>0.0</td>\n",
       "      <td>1</td>\n",
       "      <td>0</td>\n",
       "      <td>6</td>\n",
       "      <td>786</td>\n",
       "      <td>47613.0</td>\n",
       "      <td>1655074782573321</td>\n",
       "      <td>1655074782573321</td>\n",
       "      <td>0.0</td>\n",
       "      <td>outlier</td>\n",
       "      <td>0.0</td>\n",
       "    </tr>\n",
       "    <tr>\n",
       "      <th>2</th>\n",
       "      <td>0.0</td>\n",
       "      <td>0</td>\n",
       "      <td>0</td>\n",
       "      <td>786</td>\n",
       "      <td>31789.0</td>\n",
       "      <td>0.0</td>\n",
       "      <td>1</td>\n",
       "      <td>0</td>\n",
       "      <td>6</td>\n",
       "      <td>786</td>\n",
       "      <td>47613.0</td>\n",
       "      <td>1655074783148517</td>\n",
       "      <td>1655074783148517</td>\n",
       "      <td>0.0</td>\n",
       "      <td>outlier</td>\n",
       "      <td>0.0</td>\n",
       "    </tr>\n",
       "    <tr>\n",
       "      <th>3</th>\n",
       "      <td>0.0</td>\n",
       "      <td>0</td>\n",
       "      <td>0</td>\n",
       "      <td>786</td>\n",
       "      <td>29409.0</td>\n",
       "      <td>0.0</td>\n",
       "      <td>1</td>\n",
       "      <td>0</td>\n",
       "      <td>6</td>\n",
       "      <td>786</td>\n",
       "      <td>47613.0</td>\n",
       "      <td>1655074783149855</td>\n",
       "      <td>1655074783149855</td>\n",
       "      <td>0.0</td>\n",
       "      <td>outlier</td>\n",
       "      <td>0.0</td>\n",
       "    </tr>\n",
       "    <tr>\n",
       "      <th>4</th>\n",
       "      <td>0.0</td>\n",
       "      <td>0</td>\n",
       "      <td>0</td>\n",
       "      <td>786</td>\n",
       "      <td>60965.0</td>\n",
       "      <td>0.0</td>\n",
       "      <td>1</td>\n",
       "      <td>0</td>\n",
       "      <td>6</td>\n",
       "      <td>786</td>\n",
       "      <td>47613.0</td>\n",
       "      <td>1655074783167254</td>\n",
       "      <td>1655074783167254</td>\n",
       "      <td>0.0</td>\n",
       "      <td>outlier</td>\n",
       "      <td>0.0</td>\n",
       "    </tr>\n",
       "  </tbody>\n",
       "</table>\n",
       "</div>"
      ],
      "text/plain": [
       "   avg_ipt  bytes_in  bytes_out  dest_ip  dest_port  entropy  num_pkts_out  \\\n",
       "0      0.0         0          0      786    31306.0      0.0             1   \n",
       "1      0.0         0          0      786    24298.0      0.0             1   \n",
       "2      0.0         0          0      786    31789.0      0.0             1   \n",
       "3      0.0         0          0      786    29409.0      0.0             1   \n",
       "4      0.0         0          0      786    60965.0      0.0             1   \n",
       "\n",
       "   num_pkts_in  proto  src_ip  src_port          time_end        time_start  \\\n",
       "0            0      6     786   47613.0  1655074782132491  1655074782132491   \n",
       "1            0      6     786   47613.0  1655074782573321  1655074782573321   \n",
       "2            0      6     786   47613.0  1655074783148517  1655074783148517   \n",
       "3            0      6     786   47613.0  1655074783149855  1655074783149855   \n",
       "4            0      6     786   47613.0  1655074783167254  1655074783167254   \n",
       "\n",
       "   total_entropy    label  duration  \n",
       "0            0.0  outlier       0.0  \n",
       "1            0.0  outlier       0.0  \n",
       "2            0.0  outlier       0.0  \n",
       "3            0.0  outlier       0.0  \n",
       "4            0.0  outlier       0.0  "
      ]
     },
     "execution_count": 5,
     "metadata": {},
     "output_type": "execute_result"
    }
   ],
   "source": [
    "df3.head()"
   ]
  },
  {
   "cell_type": "code",
   "execution_count": 6,
   "id": "5962eedc",
   "metadata": {},
   "outputs": [
    {
     "data": {
      "text/html": [
       "<div>\n",
       "<style scoped>\n",
       "    .dataframe tbody tr th:only-of-type {\n",
       "        vertical-align: middle;\n",
       "    }\n",
       "\n",
       "    .dataframe tbody tr th {\n",
       "        vertical-align: top;\n",
       "    }\n",
       "\n",
       "    .dataframe thead th {\n",
       "        text-align: right;\n",
       "    }\n",
       "</style>\n",
       "<table border=\"1\" class=\"dataframe\">\n",
       "  <thead>\n",
       "    <tr style=\"text-align: right;\">\n",
       "      <th></th>\n",
       "      <th>avg_ipt</th>\n",
       "      <th>bytes_in</th>\n",
       "      <th>bytes_out</th>\n",
       "      <th>dest_ip</th>\n",
       "      <th>dest_port</th>\n",
       "      <th>entropy</th>\n",
       "      <th>num_pkts_out</th>\n",
       "      <th>num_pkts_in</th>\n",
       "      <th>proto</th>\n",
       "      <th>src_ip</th>\n",
       "      <th>src_port</th>\n",
       "      <th>time_end</th>\n",
       "      <th>time_start</th>\n",
       "      <th>total_entropy</th>\n",
       "      <th>label</th>\n",
       "      <th>duration</th>\n",
       "    </tr>\n",
       "  </thead>\n",
       "  <tbody>\n",
       "    <tr>\n",
       "      <th>0</th>\n",
       "      <td>208.00</td>\n",
       "      <td>0</td>\n",
       "      <td>132</td>\n",
       "      <td>786</td>\n",
       "      <td>445.0</td>\n",
       "      <td>0.323657</td>\n",
       "      <td>3</td>\n",
       "      <td>2</td>\n",
       "      <td>6</td>\n",
       "      <td>786</td>\n",
       "      <td>50285.0</td>\n",
       "      <td>1613091025587726</td>\n",
       "      <td>161309102537934</td>\n",
       "      <td>42.722755</td>\n",
       "      <td>outlier</td>\n",
       "      <td>0.208386</td>\n",
       "    </tr>\n",
       "    <tr>\n",
       "      <th>1</th>\n",
       "      <td>174.75</td>\n",
       "      <td>270</td>\n",
       "      <td>191</td>\n",
       "      <td>786</td>\n",
       "      <td>445.0</td>\n",
       "      <td>4.547564</td>\n",
       "      <td>6</td>\n",
       "      <td>6</td>\n",
       "      <td>6</td>\n",
       "      <td>786</td>\n",
       "      <td>50206.0</td>\n",
       "      <td>1613091025801601</td>\n",
       "      <td>1613091024573787</td>\n",
       "      <td>2096.427000</td>\n",
       "      <td>malicious</td>\n",
       "      <td>1.227814</td>\n",
       "    </tr>\n",
       "    <tr>\n",
       "      <th>2</th>\n",
       "      <td>26.80</td>\n",
       "      <td>1447</td>\n",
       "      <td>1312</td>\n",
       "      <td>786</td>\n",
       "      <td>22.0</td>\n",
       "      <td>6.920547</td>\n",
       "      <td>14</td>\n",
       "      <td>17</td>\n",
       "      <td>6</td>\n",
       "      <td>786</td>\n",
       "      <td>38826.0</td>\n",
       "      <td>161309102627185</td>\n",
       "      <td>1613091025844682</td>\n",
       "      <td>19093.791000</td>\n",
       "      <td>malicious</td>\n",
       "      <td>0.427168</td>\n",
       "    </tr>\n",
       "    <tr>\n",
       "      <th>3</th>\n",
       "      <td>145.00</td>\n",
       "      <td>12</td>\n",
       "      <td>12</td>\n",
       "      <td>786</td>\n",
       "      <td>5900.0</td>\n",
       "      <td>2.886842</td>\n",
       "      <td>5</td>\n",
       "      <td>5</td>\n",
       "      <td>6</td>\n",
       "      <td>786</td>\n",
       "      <td>39020.0</td>\n",
       "      <td>1613091086230683</td>\n",
       "      <td>1613091085759512</td>\n",
       "      <td>69.284210</td>\n",
       "      <td>malicious</td>\n",
       "      <td>0.471171</td>\n",
       "    </tr>\n",
       "    <tr>\n",
       "      <th>4</th>\n",
       "      <td>215.75</td>\n",
       "      <td>270</td>\n",
       "      <td>191</td>\n",
       "      <td>786</td>\n",
       "      <td>445.0</td>\n",
       "      <td>4.547564</td>\n",
       "      <td>6</td>\n",
       "      <td>6</td>\n",
       "      <td>6</td>\n",
       "      <td>786</td>\n",
       "      <td>56656.0</td>\n",
       "      <td>1613091087274613</td>\n",
       "      <td>1613091085883002</td>\n",
       "      <td>2096.427000</td>\n",
       "      <td>malicious</td>\n",
       "      <td>1.391611</td>\n",
       "    </tr>\n",
       "  </tbody>\n",
       "</table>\n",
       "</div>"
      ],
      "text/plain": [
       "   avg_ipt  bytes_in  bytes_out  dest_ip  dest_port   entropy  num_pkts_out  \\\n",
       "0   208.00         0        132      786      445.0  0.323657             3   \n",
       "1   174.75       270        191      786      445.0  4.547564             6   \n",
       "2    26.80      1447       1312      786       22.0  6.920547            14   \n",
       "3   145.00        12         12      786     5900.0  2.886842             5   \n",
       "4   215.75       270        191      786      445.0  4.547564             6   \n",
       "\n",
       "   num_pkts_in  proto  src_ip  src_port          time_end        time_start  \\\n",
       "0            2      6     786   50285.0  1613091025587726   161309102537934   \n",
       "1            6      6     786   50206.0  1613091025801601  1613091024573787   \n",
       "2           17      6     786   38826.0   161309102627185  1613091025844682   \n",
       "3            5      6     786   39020.0  1613091086230683  1613091085759512   \n",
       "4            6      6     786   56656.0  1613091087274613  1613091085883002   \n",
       "\n",
       "   total_entropy      label  duration  \n",
       "0      42.722755    outlier  0.208386  \n",
       "1    2096.427000  malicious  1.227814  \n",
       "2   19093.791000  malicious  0.427168  \n",
       "3      69.284210  malicious  0.471171  \n",
       "4    2096.427000  malicious  1.391611  "
      ]
     },
     "execution_count": 6,
     "metadata": {},
     "output_type": "execute_result"
    }
   ],
   "source": [
    "df4.head()"
   ]
  },
  {
   "cell_type": "code",
   "execution_count": 7,
   "id": "0a7dee99",
   "metadata": {},
   "outputs": [],
   "source": [
    "df_dataset=pd.concat([df1,df2,df3,df4])"
   ]
  },
  {
   "cell_type": "code",
   "execution_count": 8,
   "id": "f024e020",
   "metadata": {},
   "outputs": [
    {
     "data": {
      "text/html": [
       "<div>\n",
       "<style scoped>\n",
       "    .dataframe tbody tr th:only-of-type {\n",
       "        vertical-align: middle;\n",
       "    }\n",
       "\n",
       "    .dataframe tbody tr th {\n",
       "        vertical-align: top;\n",
       "    }\n",
       "\n",
       "    .dataframe thead th {\n",
       "        text-align: right;\n",
       "    }\n",
       "</style>\n",
       "<table border=\"1\" class=\"dataframe\">\n",
       "  <thead>\n",
       "    <tr style=\"text-align: right;\">\n",
       "      <th></th>\n",
       "      <th>avg_ipt</th>\n",
       "      <th>bytes_in</th>\n",
       "      <th>bytes_out</th>\n",
       "      <th>dest_ip</th>\n",
       "      <th>dest_port</th>\n",
       "      <th>entropy</th>\n",
       "      <th>num_pkts_out</th>\n",
       "      <th>num_pkts_in</th>\n",
       "      <th>proto</th>\n",
       "      <th>src_ip</th>\n",
       "      <th>src_port</th>\n",
       "      <th>time_end</th>\n",
       "      <th>time_start</th>\n",
       "      <th>total_entropy</th>\n",
       "      <th>label</th>\n",
       "      <th>duration</th>\n",
       "    </tr>\n",
       "  </thead>\n",
       "  <tbody>\n",
       "    <tr>\n",
       "      <th>0</th>\n",
       "      <td>52.50</td>\n",
       "      <td>270</td>\n",
       "      <td>191</td>\n",
       "      <td>786</td>\n",
       "      <td>445.0</td>\n",
       "      <td>4.588516</td>\n",
       "      <td>6</td>\n",
       "      <td>6</td>\n",
       "      <td>6</td>\n",
       "      <td>47331</td>\n",
       "      <td>56965.0</td>\n",
       "      <td>1594168229367522</td>\n",
       "      <td>1594168228968772</td>\n",
       "      <td>2115.305700</td>\n",
       "      <td>malicious</td>\n",
       "      <td>0.398750</td>\n",
       "    </tr>\n",
       "    <tr>\n",
       "      <th>1</th>\n",
       "      <td>50.25</td>\n",
       "      <td>270</td>\n",
       "      <td>191</td>\n",
       "      <td>786</td>\n",
       "      <td>445.0</td>\n",
       "      <td>4.588516</td>\n",
       "      <td>6</td>\n",
       "      <td>6</td>\n",
       "      <td>6</td>\n",
       "      <td>47331</td>\n",
       "      <td>57217.0</td>\n",
       "      <td>1594168231492958</td>\n",
       "      <td>1594168231104076</td>\n",
       "      <td>2115.305700</td>\n",
       "      <td>malicious</td>\n",
       "      <td>0.388882</td>\n",
       "    </tr>\n",
       "    <tr>\n",
       "      <th>2</th>\n",
       "      <td>50.00</td>\n",
       "      <td>270</td>\n",
       "      <td>191</td>\n",
       "      <td>786</td>\n",
       "      <td>445.0</td>\n",
       "      <td>4.588516</td>\n",
       "      <td>6</td>\n",
       "      <td>6</td>\n",
       "      <td>6</td>\n",
       "      <td>47331</td>\n",
       "      <td>57294.0</td>\n",
       "      <td>1594168232099461</td>\n",
       "      <td>1594168231710708</td>\n",
       "      <td>2115.305700</td>\n",
       "      <td>malicious</td>\n",
       "      <td>0.388753</td>\n",
       "    </tr>\n",
       "    <tr>\n",
       "      <th>3</th>\n",
       "      <td>0.00</td>\n",
       "      <td>56</td>\n",
       "      <td>56</td>\n",
       "      <td>786</td>\n",
       "      <td>NaN</td>\n",
       "      <td>1.020244</td>\n",
       "      <td>1</td>\n",
       "      <td>1</td>\n",
       "      <td>1</td>\n",
       "      <td>55960</td>\n",
       "      <td>NaN</td>\n",
       "      <td>1594168231421839</td>\n",
       "      <td>159416823142178</td>\n",
       "      <td>114.267365</td>\n",
       "      <td>outlier</td>\n",
       "      <td>0.000059</td>\n",
       "    </tr>\n",
       "    <tr>\n",
       "      <th>4</th>\n",
       "      <td>53.75</td>\n",
       "      <td>270</td>\n",
       "      <td>191</td>\n",
       "      <td>786</td>\n",
       "      <td>445.0</td>\n",
       "      <td>4.588516</td>\n",
       "      <td>6</td>\n",
       "      <td>6</td>\n",
       "      <td>6</td>\n",
       "      <td>47331</td>\n",
       "      <td>57325.0</td>\n",
       "      <td>1594168232419566</td>\n",
       "      <td>1594168232008625</td>\n",
       "      <td>2115.305700</td>\n",
       "      <td>malicious</td>\n",
       "      <td>0.410941</td>\n",
       "    </tr>\n",
       "  </tbody>\n",
       "</table>\n",
       "</div>"
      ],
      "text/plain": [
       "   avg_ipt  bytes_in  bytes_out  dest_ip  dest_port   entropy  num_pkts_out  \\\n",
       "0    52.50       270        191      786      445.0  4.588516             6   \n",
       "1    50.25       270        191      786      445.0  4.588516             6   \n",
       "2    50.00       270        191      786      445.0  4.588516             6   \n",
       "3     0.00        56         56      786        NaN  1.020244             1   \n",
       "4    53.75       270        191      786      445.0  4.588516             6   \n",
       "\n",
       "   num_pkts_in  proto  src_ip  src_port          time_end        time_start  \\\n",
       "0            6      6   47331   56965.0  1594168229367522  1594168228968772   \n",
       "1            6      6   47331   57217.0  1594168231492958  1594168231104076   \n",
       "2            6      6   47331   57294.0  1594168232099461  1594168231710708   \n",
       "3            1      1   55960       NaN  1594168231421839   159416823142178   \n",
       "4            6      6   47331   57325.0  1594168232419566  1594168232008625   \n",
       "\n",
       "   total_entropy      label  duration  \n",
       "0    2115.305700  malicious  0.398750  \n",
       "1    2115.305700  malicious  0.388882  \n",
       "2    2115.305700  malicious  0.388753  \n",
       "3     114.267365    outlier  0.000059  \n",
       "4    2115.305700  malicious  0.410941  "
      ]
     },
     "execution_count": 8,
     "metadata": {},
     "output_type": "execute_result"
    }
   ],
   "source": [
    "df_dataset.head()"
   ]
  },
  {
   "cell_type": "code",
   "execution_count": 9,
   "id": "0d6aa7c7",
   "metadata": {},
   "outputs": [
    {
     "data": {
      "text/plain": [
       "(112755, 16)"
      ]
     },
     "execution_count": 9,
     "metadata": {},
     "output_type": "execute_result"
    }
   ],
   "source": [
    "df1.shape"
   ]
  },
  {
   "cell_type": "code",
   "execution_count": 10,
   "id": "3a8859b2",
   "metadata": {},
   "outputs": [
    {
     "data": {
      "text/plain": [
       "(43778, 16)"
      ]
     },
     "execution_count": 10,
     "metadata": {},
     "output_type": "execute_result"
    }
   ],
   "source": [
    "df2.shape"
   ]
  },
  {
   "cell_type": "code",
   "execution_count": 11,
   "id": "ba51abd5",
   "metadata": {},
   "outputs": [
    {
     "data": {
      "text/plain": [
       "(26167, 16)"
      ]
     },
     "execution_count": 11,
     "metadata": {},
     "output_type": "execute_result"
    }
   ],
   "source": [
    "df3.shape"
   ]
  },
  {
   "cell_type": "code",
   "execution_count": 12,
   "id": "4dee897a",
   "metadata": {},
   "outputs": [
    {
     "data": {
      "text/plain": [
       "(872367, 16)"
      ]
     },
     "execution_count": 12,
     "metadata": {},
     "output_type": "execute_result"
    }
   ],
   "source": [
    "df4.shape"
   ]
  },
  {
   "cell_type": "code",
   "execution_count": 13,
   "id": "43620cfe",
   "metadata": {},
   "outputs": [
    {
     "data": {
      "text/plain": [
       "(1055067, 16)"
      ]
     },
     "execution_count": 13,
     "metadata": {},
     "output_type": "execute_result"
    }
   ],
   "source": [
    "df_dataset.shape"
   ]
  },
  {
   "cell_type": "code",
   "execution_count": 14,
   "id": "6a46dfaf",
   "metadata": {},
   "outputs": [
    {
     "data": {
      "text/html": [
       "<div>\n",
       "<style scoped>\n",
       "    .dataframe tbody tr th:only-of-type {\n",
       "        vertical-align: middle;\n",
       "    }\n",
       "\n",
       "    .dataframe tbody tr th {\n",
       "        vertical-align: top;\n",
       "    }\n",
       "\n",
       "    .dataframe thead th {\n",
       "        text-align: right;\n",
       "    }\n",
       "</style>\n",
       "<table border=\"1\" class=\"dataframe\">\n",
       "  <thead>\n",
       "    <tr style=\"text-align: right;\">\n",
       "      <th></th>\n",
       "      <th>avg_ipt</th>\n",
       "      <th>bytes_in</th>\n",
       "      <th>bytes_out</th>\n",
       "      <th>dest_ip</th>\n",
       "      <th>dest_port</th>\n",
       "      <th>entropy</th>\n",
       "      <th>num_pkts_out</th>\n",
       "      <th>num_pkts_in</th>\n",
       "      <th>proto</th>\n",
       "      <th>src_ip</th>\n",
       "      <th>src_port</th>\n",
       "      <th>time_end</th>\n",
       "      <th>time_start</th>\n",
       "      <th>total_entropy</th>\n",
       "      <th>label</th>\n",
       "      <th>duration</th>\n",
       "    </tr>\n",
       "  </thead>\n",
       "  <tbody>\n",
       "    <tr>\n",
       "      <th>0</th>\n",
       "      <td>52.50</td>\n",
       "      <td>270</td>\n",
       "      <td>191</td>\n",
       "      <td>786</td>\n",
       "      <td>445.0</td>\n",
       "      <td>4.588516</td>\n",
       "      <td>6</td>\n",
       "      <td>6</td>\n",
       "      <td>6</td>\n",
       "      <td>47331</td>\n",
       "      <td>56965.0</td>\n",
       "      <td>1594168229367522</td>\n",
       "      <td>1594168228968772</td>\n",
       "      <td>2115.305700</td>\n",
       "      <td>malicious</td>\n",
       "      <td>0.398750</td>\n",
       "    </tr>\n",
       "    <tr>\n",
       "      <th>1</th>\n",
       "      <td>50.25</td>\n",
       "      <td>270</td>\n",
       "      <td>191</td>\n",
       "      <td>786</td>\n",
       "      <td>445.0</td>\n",
       "      <td>4.588516</td>\n",
       "      <td>6</td>\n",
       "      <td>6</td>\n",
       "      <td>6</td>\n",
       "      <td>47331</td>\n",
       "      <td>57217.0</td>\n",
       "      <td>1594168231492958</td>\n",
       "      <td>1594168231104076</td>\n",
       "      <td>2115.305700</td>\n",
       "      <td>malicious</td>\n",
       "      <td>0.388882</td>\n",
       "    </tr>\n",
       "    <tr>\n",
       "      <th>2</th>\n",
       "      <td>50.00</td>\n",
       "      <td>270</td>\n",
       "      <td>191</td>\n",
       "      <td>786</td>\n",
       "      <td>445.0</td>\n",
       "      <td>4.588516</td>\n",
       "      <td>6</td>\n",
       "      <td>6</td>\n",
       "      <td>6</td>\n",
       "      <td>47331</td>\n",
       "      <td>57294.0</td>\n",
       "      <td>1594168232099461</td>\n",
       "      <td>1594168231710708</td>\n",
       "      <td>2115.305700</td>\n",
       "      <td>malicious</td>\n",
       "      <td>0.388753</td>\n",
       "    </tr>\n",
       "    <tr>\n",
       "      <th>3</th>\n",
       "      <td>0.00</td>\n",
       "      <td>56</td>\n",
       "      <td>56</td>\n",
       "      <td>786</td>\n",
       "      <td>NaN</td>\n",
       "      <td>1.020244</td>\n",
       "      <td>1</td>\n",
       "      <td>1</td>\n",
       "      <td>1</td>\n",
       "      <td>55960</td>\n",
       "      <td>NaN</td>\n",
       "      <td>1594168231421839</td>\n",
       "      <td>159416823142178</td>\n",
       "      <td>114.267365</td>\n",
       "      <td>outlier</td>\n",
       "      <td>0.000059</td>\n",
       "    </tr>\n",
       "    <tr>\n",
       "      <th>4</th>\n",
       "      <td>53.75</td>\n",
       "      <td>270</td>\n",
       "      <td>191</td>\n",
       "      <td>786</td>\n",
       "      <td>445.0</td>\n",
       "      <td>4.588516</td>\n",
       "      <td>6</td>\n",
       "      <td>6</td>\n",
       "      <td>6</td>\n",
       "      <td>47331</td>\n",
       "      <td>57325.0</td>\n",
       "      <td>1594168232419566</td>\n",
       "      <td>1594168232008625</td>\n",
       "      <td>2115.305700</td>\n",
       "      <td>malicious</td>\n",
       "      <td>0.410941</td>\n",
       "    </tr>\n",
       "    <tr>\n",
       "      <th>...</th>\n",
       "      <td>...</td>\n",
       "      <td>...</td>\n",
       "      <td>...</td>\n",
       "      <td>...</td>\n",
       "      <td>...</td>\n",
       "      <td>...</td>\n",
       "      <td>...</td>\n",
       "      <td>...</td>\n",
       "      <td>...</td>\n",
       "      <td>...</td>\n",
       "      <td>...</td>\n",
       "      <td>...</td>\n",
       "      <td>...</td>\n",
       "      <td>...</td>\n",
       "      <td>...</td>\n",
       "      <td>...</td>\n",
       "    </tr>\n",
       "    <tr>\n",
       "      <th>872362</th>\n",
       "      <td>477.00</td>\n",
       "      <td>1359</td>\n",
       "      <td>745</td>\n",
       "      <td>786</td>\n",
       "      <td>22.0</td>\n",
       "      <td>6.921222</td>\n",
       "      <td>13</td>\n",
       "      <td>13</td>\n",
       "      <td>6</td>\n",
       "      <td>786</td>\n",
       "      <td>39162.0</td>\n",
       "      <td>1613173407903601</td>\n",
       "      <td>1613173402404684</td>\n",
       "      <td>14562.251000</td>\n",
       "      <td>malicious</td>\n",
       "      <td>5.498917</td>\n",
       "    </tr>\n",
       "    <tr>\n",
       "      <th>872363</th>\n",
       "      <td>99.75</td>\n",
       "      <td>270</td>\n",
       "      <td>191</td>\n",
       "      <td>786</td>\n",
       "      <td>445.0</td>\n",
       "      <td>4.559551</td>\n",
       "      <td>6</td>\n",
       "      <td>6</td>\n",
       "      <td>6</td>\n",
       "      <td>786</td>\n",
       "      <td>58597.0</td>\n",
       "      <td>1613173408034155</td>\n",
       "      <td>1613173407253156</td>\n",
       "      <td>2101.953100</td>\n",
       "      <td>outlier</td>\n",
       "      <td>0.780999</td>\n",
       "    </tr>\n",
       "    <tr>\n",
       "      <th>872364</th>\n",
       "      <td>116.50</td>\n",
       "      <td>270</td>\n",
       "      <td>191</td>\n",
       "      <td>786</td>\n",
       "      <td>445.0</td>\n",
       "      <td>4.569075</td>\n",
       "      <td>6</td>\n",
       "      <td>6</td>\n",
       "      <td>6</td>\n",
       "      <td>786</td>\n",
       "      <td>57689.0</td>\n",
       "      <td>1613173408408002</td>\n",
       "      <td>1613173407492927</td>\n",
       "      <td>2106.343500</td>\n",
       "      <td>malicious</td>\n",
       "      <td>0.915075</td>\n",
       "    </tr>\n",
       "    <tr>\n",
       "      <th>872365</th>\n",
       "      <td>101.50</td>\n",
       "      <td>270</td>\n",
       "      <td>191</td>\n",
       "      <td>786</td>\n",
       "      <td>445.0</td>\n",
       "      <td>4.559551</td>\n",
       "      <td>6</td>\n",
       "      <td>6</td>\n",
       "      <td>6</td>\n",
       "      <td>786</td>\n",
       "      <td>58479.0</td>\n",
       "      <td>1613173406848608</td>\n",
       "      <td>1613173406060193</td>\n",
       "      <td>2101.953100</td>\n",
       "      <td>outlier</td>\n",
       "      <td>0.788415</td>\n",
       "    </tr>\n",
       "    <tr>\n",
       "      <th>872366</th>\n",
       "      <td>99.50</td>\n",
       "      <td>270</td>\n",
       "      <td>191</td>\n",
       "      <td>786</td>\n",
       "      <td>445.0</td>\n",
       "      <td>4.559551</td>\n",
       "      <td>6</td>\n",
       "      <td>6</td>\n",
       "      <td>6</td>\n",
       "      <td>786</td>\n",
       "      <td>58707.0</td>\n",
       "      <td>161317340922051</td>\n",
       "      <td>1613173408436442</td>\n",
       "      <td>2101.953100</td>\n",
       "      <td>outlier</td>\n",
       "      <td>0.784068</td>\n",
       "    </tr>\n",
       "  </tbody>\n",
       "</table>\n",
       "<p>1055067 rows × 16 columns</p>\n",
       "</div>"
      ],
      "text/plain": [
       "        avg_ipt  bytes_in  bytes_out  dest_ip  dest_port   entropy  \\\n",
       "0         52.50       270        191      786      445.0  4.588516   \n",
       "1         50.25       270        191      786      445.0  4.588516   \n",
       "2         50.00       270        191      786      445.0  4.588516   \n",
       "3          0.00        56         56      786        NaN  1.020244   \n",
       "4         53.75       270        191      786      445.0  4.588516   \n",
       "...         ...       ...        ...      ...        ...       ...   \n",
       "872362   477.00      1359        745      786       22.0  6.921222   \n",
       "872363    99.75       270        191      786      445.0  4.559551   \n",
       "872364   116.50       270        191      786      445.0  4.569075   \n",
       "872365   101.50       270        191      786      445.0  4.559551   \n",
       "872366    99.50       270        191      786      445.0  4.559551   \n",
       "\n",
       "        num_pkts_out  num_pkts_in  proto  src_ip  src_port          time_end  \\\n",
       "0                  6            6      6   47331   56965.0  1594168229367522   \n",
       "1                  6            6      6   47331   57217.0  1594168231492958   \n",
       "2                  6            6      6   47331   57294.0  1594168232099461   \n",
       "3                  1            1      1   55960       NaN  1594168231421839   \n",
       "4                  6            6      6   47331   57325.0  1594168232419566   \n",
       "...              ...          ...    ...     ...       ...               ...   \n",
       "872362            13           13      6     786   39162.0  1613173407903601   \n",
       "872363             6            6      6     786   58597.0  1613173408034155   \n",
       "872364             6            6      6     786   57689.0  1613173408408002   \n",
       "872365             6            6      6     786   58479.0  1613173406848608   \n",
       "872366             6            6      6     786   58707.0   161317340922051   \n",
       "\n",
       "              time_start  total_entropy      label  duration  \n",
       "0       1594168228968772    2115.305700  malicious  0.398750  \n",
       "1       1594168231104076    2115.305700  malicious  0.388882  \n",
       "2       1594168231710708    2115.305700  malicious  0.388753  \n",
       "3        159416823142178     114.267365    outlier  0.000059  \n",
       "4       1594168232008625    2115.305700  malicious  0.410941  \n",
       "...                  ...            ...        ...       ...  \n",
       "872362  1613173402404684   14562.251000  malicious  5.498917  \n",
       "872363  1613173407253156    2101.953100    outlier  0.780999  \n",
       "872364  1613173407492927    2106.343500  malicious  0.915075  \n",
       "872365  1613173406060193    2101.953100    outlier  0.788415  \n",
       "872366  1613173408436442    2101.953100    outlier  0.784068  \n",
       "\n",
       "[1055067 rows x 16 columns]"
      ]
     },
     "execution_count": 14,
     "metadata": {},
     "output_type": "execute_result"
    }
   ],
   "source": [
    "df_dataset"
   ]
  },
  {
   "cell_type": "code",
   "execution_count": 15,
   "id": "c9ea0e30",
   "metadata": {},
   "outputs": [
    {
     "data": {
      "text/plain": [
       "<bound method DataFrame.info of         avg_ipt  bytes_in  bytes_out  dest_ip  dest_port   entropy  \\\n",
       "0         52.50       270        191      786      445.0  4.588516   \n",
       "1         50.25       270        191      786      445.0  4.588516   \n",
       "2         50.00       270        191      786      445.0  4.588516   \n",
       "3          0.00        56         56      786        NaN  1.020244   \n",
       "4         53.75       270        191      786      445.0  4.588516   \n",
       "...         ...       ...        ...      ...        ...       ...   \n",
       "872362   477.00      1359        745      786       22.0  6.921222   \n",
       "872363    99.75       270        191      786      445.0  4.559551   \n",
       "872364   116.50       270        191      786      445.0  4.569075   \n",
       "872365   101.50       270        191      786      445.0  4.559551   \n",
       "872366    99.50       270        191      786      445.0  4.559551   \n",
       "\n",
       "        num_pkts_out  num_pkts_in  proto  src_ip  src_port          time_end  \\\n",
       "0                  6            6      6   47331   56965.0  1594168229367522   \n",
       "1                  6            6      6   47331   57217.0  1594168231492958   \n",
       "2                  6            6      6   47331   57294.0  1594168232099461   \n",
       "3                  1            1      1   55960       NaN  1594168231421839   \n",
       "4                  6            6      6   47331   57325.0  1594168232419566   \n",
       "...              ...          ...    ...     ...       ...               ...   \n",
       "872362            13           13      6     786   39162.0  1613173407903601   \n",
       "872363             6            6      6     786   58597.0  1613173408034155   \n",
       "872364             6            6      6     786   57689.0  1613173408408002   \n",
       "872365             6            6      6     786   58479.0  1613173406848608   \n",
       "872366             6            6      6     786   58707.0   161317340922051   \n",
       "\n",
       "              time_start  total_entropy      label  duration  \n",
       "0       1594168228968772    2115.305700  malicious  0.398750  \n",
       "1       1594168231104076    2115.305700  malicious  0.388882  \n",
       "2       1594168231710708    2115.305700  malicious  0.388753  \n",
       "3        159416823142178     114.267365    outlier  0.000059  \n",
       "4       1594168232008625    2115.305700  malicious  0.410941  \n",
       "...                  ...            ...        ...       ...  \n",
       "872362  1613173402404684   14562.251000  malicious  5.498917  \n",
       "872363  1613173407253156    2101.953100    outlier  0.780999  \n",
       "872364  1613173407492927    2106.343500  malicious  0.915075  \n",
       "872365  1613173406060193    2101.953100    outlier  0.788415  \n",
       "872366  1613173408436442    2101.953100    outlier  0.784068  \n",
       "\n",
       "[1055067 rows x 16 columns]>"
      ]
     },
     "execution_count": 15,
     "metadata": {},
     "output_type": "execute_result"
    }
   ],
   "source": [
    "df_dataset.info"
   ]
  },
  {
   "cell_type": "code",
   "execution_count": 16,
   "id": "3ebd196f",
   "metadata": {},
   "outputs": [
    {
     "data": {
      "text/plain": [
       "avg_ipt              0\n",
       "bytes_in             0\n",
       "bytes_out            0\n",
       "dest_ip              0\n",
       "dest_port        22596\n",
       "entropy              0\n",
       "num_pkts_out         0\n",
       "num_pkts_in          0\n",
       "proto                0\n",
       "src_ip               0\n",
       "src_port         22596\n",
       "time_end             0\n",
       "time_start           0\n",
       "total_entropy        0\n",
       "label                0\n",
       "duration             0\n",
       "dtype: int64"
      ]
     },
     "execution_count": 16,
     "metadata": {},
     "output_type": "execute_result"
    }
   ],
   "source": [
    "df_dataset.isnull().sum()"
   ]
  },
  {
   "cell_type": "code",
   "execution_count": 17,
   "id": "9f07e2aa",
   "metadata": {},
   "outputs": [
    {
     "data": {
      "text/html": [
       "<div>\n",
       "<style scoped>\n",
       "    .dataframe tbody tr th:only-of-type {\n",
       "        vertical-align: middle;\n",
       "    }\n",
       "\n",
       "    .dataframe tbody tr th {\n",
       "        vertical-align: top;\n",
       "    }\n",
       "\n",
       "    .dataframe thead th {\n",
       "        text-align: right;\n",
       "    }\n",
       "</style>\n",
       "<table border=\"1\" class=\"dataframe\">\n",
       "  <thead>\n",
       "    <tr style=\"text-align: right;\">\n",
       "      <th></th>\n",
       "      <th>avg_ipt</th>\n",
       "      <th>bytes_in</th>\n",
       "      <th>bytes_out</th>\n",
       "      <th>dest_ip</th>\n",
       "      <th>dest_port</th>\n",
       "      <th>entropy</th>\n",
       "      <th>num_pkts_out</th>\n",
       "      <th>num_pkts_in</th>\n",
       "      <th>proto</th>\n",
       "      <th>src_ip</th>\n",
       "      <th>src_port</th>\n",
       "      <th>time_end</th>\n",
       "      <th>time_start</th>\n",
       "      <th>total_entropy</th>\n",
       "      <th>duration</th>\n",
       "    </tr>\n",
       "  </thead>\n",
       "  <tbody>\n",
       "    <tr>\n",
       "      <th>count</th>\n",
       "      <td>1.055067e+06</td>\n",
       "      <td>1.055067e+06</td>\n",
       "      <td>1.055067e+06</td>\n",
       "      <td>1.055067e+06</td>\n",
       "      <td>1.032471e+06</td>\n",
       "      <td>1.055067e+06</td>\n",
       "      <td>1.055067e+06</td>\n",
       "      <td>1.055067e+06</td>\n",
       "      <td>1.055067e+06</td>\n",
       "      <td>1.055067e+06</td>\n",
       "      <td>1.032471e+06</td>\n",
       "      <td>1.055067e+06</td>\n",
       "      <td>1.055067e+06</td>\n",
       "      <td>1.055067e+06</td>\n",
       "      <td>1.055067e+06</td>\n",
       "    </tr>\n",
       "    <tr>\n",
       "      <th>mean</th>\n",
       "      <td>2.463721e+06</td>\n",
       "      <td>9.267478e+02</td>\n",
       "      <td>3.232239e+03</td>\n",
       "      <td>1.170804e+03</td>\n",
       "      <td>1.201671e+04</td>\n",
       "      <td>3.121516e+00</td>\n",
       "      <td>6.790462e+00</td>\n",
       "      <td>4.302001e+00</td>\n",
       "      <td>6.096138e+00</td>\n",
       "      <td>2.505211e+03</td>\n",
       "      <td>3.837745e+04</td>\n",
       "      <td>1.465505e+15</td>\n",
       "      <td>1.465705e+15</td>\n",
       "      <td>1.587961e+04</td>\n",
       "      <td>1.725400e+00</td>\n",
       "    </tr>\n",
       "    <tr>\n",
       "      <th>std</th>\n",
       "      <td>6.079653e+07</td>\n",
       "      <td>5.350950e+03</td>\n",
       "      <td>7.324738e+03</td>\n",
       "      <td>2.835862e+03</td>\n",
       "      <td>1.537039e+04</td>\n",
       "      <td>2.569820e+00</td>\n",
       "      <td>2.005894e+01</td>\n",
       "      <td>1.523080e+01</td>\n",
       "      <td>1.678128e+00</td>\n",
       "      <td>1.331851e+04</td>\n",
       "      <td>1.846428e+04</td>\n",
       "      <td>4.398343e+14</td>\n",
       "      <td>4.395759e+14</td>\n",
       "      <td>1.089548e+05</td>\n",
       "      <td>1.463885e+01</td>\n",
       "    </tr>\n",
       "    <tr>\n",
       "      <th>min</th>\n",
       "      <td>0.000000e+00</td>\n",
       "      <td>0.000000e+00</td>\n",
       "      <td>0.000000e+00</td>\n",
       "      <td>1.740000e+02</td>\n",
       "      <td>1.000000e+00</td>\n",
       "      <td>0.000000e+00</td>\n",
       "      <td>0.000000e+00</td>\n",
       "      <td>0.000000e+00</td>\n",
       "      <td>1.000000e+00</td>\n",
       "      <td>4.000000e+00</td>\n",
       "      <td>1.000000e+00</td>\n",
       "      <td>1.609487e+10</td>\n",
       "      <td>1.613101e+10</td>\n",
       "      <td>0.000000e+00</td>\n",
       "      <td>0.000000e+00</td>\n",
       "    </tr>\n",
       "    <tr>\n",
       "      <th>25%</th>\n",
       "      <td>0.000000e+00</td>\n",
       "      <td>0.000000e+00</td>\n",
       "      <td>0.000000e+00</td>\n",
       "      <td>7.860000e+02</td>\n",
       "      <td>4.450000e+02</td>\n",
       "      <td>0.000000e+00</td>\n",
       "      <td>1.000000e+00</td>\n",
       "      <td>0.000000e+00</td>\n",
       "      <td>6.000000e+00</td>\n",
       "      <td>7.860000e+02</td>\n",
       "      <td>3.444400e+04</td>\n",
       "      <td>1.613094e+15</td>\n",
       "      <td>1.613094e+15</td>\n",
       "      <td>0.000000e+00</td>\n",
       "      <td>0.000000e+00</td>\n",
       "    </tr>\n",
       "    <tr>\n",
       "      <th>50%</th>\n",
       "      <td>0.000000e+00</td>\n",
       "      <td>0.000000e+00</td>\n",
       "      <td>1.910000e+02</td>\n",
       "      <td>7.860000e+02</td>\n",
       "      <td>9.200000e+03</td>\n",
       "      <td>3.602738e+00</td>\n",
       "      <td>3.000000e+00</td>\n",
       "      <td>1.000000e+00</td>\n",
       "      <td>6.000000e+00</td>\n",
       "      <td>7.860000e+02</td>\n",
       "      <td>3.917600e+04</td>\n",
       "      <td>1.613106e+15</td>\n",
       "      <td>1.613106e+15</td>\n",
       "      <td>2.103056e+03</td>\n",
       "      <td>2.550000e-04</td>\n",
       "    </tr>\n",
       "    <tr>\n",
       "      <th>75%</th>\n",
       "      <td>4.600000e+01</td>\n",
       "      <td>2.700000e+02</td>\n",
       "      <td>2.896000e+03</td>\n",
       "      <td>7.860000e+02</td>\n",
       "      <td>9.200000e+03</td>\n",
       "      <td>4.623700e+00</td>\n",
       "      <td>6.000000e+00</td>\n",
       "      <td>5.000000e+00</td>\n",
       "      <td>6.000000e+00</td>\n",
       "      <td>7.860000e+02</td>\n",
       "      <td>5.328800e+04</td>\n",
       "      <td>1.613110e+15</td>\n",
       "      <td>1.613110e+15</td>\n",
       "      <td>1.996572e+04</td>\n",
       "      <td>3.681265e-01</td>\n",
       "    </tr>\n",
       "    <tr>\n",
       "      <th>max</th>\n",
       "      <td>4.294967e+09</td>\n",
       "      <td>6.548500e+04</td>\n",
       "      <td>6.553300e+04</td>\n",
       "      <td>2.133710e+05</td>\n",
       "      <td>6.553400e+04</td>\n",
       "      <td>1.077386e+02</td>\n",
       "      <td>2.550000e+02</td>\n",
       "      <td>2.550000e+02</td>\n",
       "      <td>5.800000e+01</td>\n",
       "      <td>3.976510e+05</td>\n",
       "      <td>6.553400e+04</td>\n",
       "      <td>1.655078e+15</td>\n",
       "      <td>1.655078e+15</td>\n",
       "      <td>3.489045e+06</td>\n",
       "      <td>9.743361e+03</td>\n",
       "    </tr>\n",
       "  </tbody>\n",
       "</table>\n",
       "</div>"
      ],
      "text/plain": [
       "            avg_ipt      bytes_in     bytes_out       dest_ip     dest_port  \\\n",
       "count  1.055067e+06  1.055067e+06  1.055067e+06  1.055067e+06  1.032471e+06   \n",
       "mean   2.463721e+06  9.267478e+02  3.232239e+03  1.170804e+03  1.201671e+04   \n",
       "std    6.079653e+07  5.350950e+03  7.324738e+03  2.835862e+03  1.537039e+04   \n",
       "min    0.000000e+00  0.000000e+00  0.000000e+00  1.740000e+02  1.000000e+00   \n",
       "25%    0.000000e+00  0.000000e+00  0.000000e+00  7.860000e+02  4.450000e+02   \n",
       "50%    0.000000e+00  0.000000e+00  1.910000e+02  7.860000e+02  9.200000e+03   \n",
       "75%    4.600000e+01  2.700000e+02  2.896000e+03  7.860000e+02  9.200000e+03   \n",
       "max    4.294967e+09  6.548500e+04  6.553300e+04  2.133710e+05  6.553400e+04   \n",
       "\n",
       "            entropy  num_pkts_out   num_pkts_in         proto        src_ip  \\\n",
       "count  1.055067e+06  1.055067e+06  1.055067e+06  1.055067e+06  1.055067e+06   \n",
       "mean   3.121516e+00  6.790462e+00  4.302001e+00  6.096138e+00  2.505211e+03   \n",
       "std    2.569820e+00  2.005894e+01  1.523080e+01  1.678128e+00  1.331851e+04   \n",
       "min    0.000000e+00  0.000000e+00  0.000000e+00  1.000000e+00  4.000000e+00   \n",
       "25%    0.000000e+00  1.000000e+00  0.000000e+00  6.000000e+00  7.860000e+02   \n",
       "50%    3.602738e+00  3.000000e+00  1.000000e+00  6.000000e+00  7.860000e+02   \n",
       "75%    4.623700e+00  6.000000e+00  5.000000e+00  6.000000e+00  7.860000e+02   \n",
       "max    1.077386e+02  2.550000e+02  2.550000e+02  5.800000e+01  3.976510e+05   \n",
       "\n",
       "           src_port      time_end    time_start  total_entropy      duration  \n",
       "count  1.032471e+06  1.055067e+06  1.055067e+06   1.055067e+06  1.055067e+06  \n",
       "mean   3.837745e+04  1.465505e+15  1.465705e+15   1.587961e+04  1.725400e+00  \n",
       "std    1.846428e+04  4.398343e+14  4.395759e+14   1.089548e+05  1.463885e+01  \n",
       "min    1.000000e+00  1.609487e+10  1.613101e+10   0.000000e+00  0.000000e+00  \n",
       "25%    3.444400e+04  1.613094e+15  1.613094e+15   0.000000e+00  0.000000e+00  \n",
       "50%    3.917600e+04  1.613106e+15  1.613106e+15   2.103056e+03  2.550000e-04  \n",
       "75%    5.328800e+04  1.613110e+15  1.613110e+15   1.996572e+04  3.681265e-01  \n",
       "max    6.553400e+04  1.655078e+15  1.655078e+15   3.489045e+06  9.743361e+03  "
      ]
     },
     "execution_count": 17,
     "metadata": {},
     "output_type": "execute_result"
    }
   ],
   "source": [
    "df_dataset.describe()"
   ]
  },
  {
   "cell_type": "code",
   "execution_count": 18,
   "id": "87c1aef8",
   "metadata": {},
   "outputs": [
    {
     "name": "stdout",
     "output_type": "stream",
     "text": [
      "<class 'pandas.core.frame.DataFrame'>\n",
      "Int64Index: 1055067 entries, 0 to 872366\n",
      "Data columns (total 16 columns):\n",
      " #   Column         Non-Null Count    Dtype  \n",
      "---  ------         --------------    -----  \n",
      " 0   avg_ipt        1055067 non-null  float64\n",
      " 1   bytes_in       1055067 non-null  int64  \n",
      " 2   bytes_out      1055067 non-null  int64  \n",
      " 3   dest_ip        1055067 non-null  int64  \n",
      " 4   dest_port      1032471 non-null  float64\n",
      " 5   entropy        1055067 non-null  float64\n",
      " 6   num_pkts_out   1055067 non-null  int64  \n",
      " 7   num_pkts_in    1055067 non-null  int64  \n",
      " 8   proto          1055067 non-null  int64  \n",
      " 9   src_ip         1055067 non-null  int64  \n",
      " 10  src_port       1032471 non-null  float64\n",
      " 11  time_end       1055067 non-null  int64  \n",
      " 12  time_start     1055067 non-null  int64  \n",
      " 13  total_entropy  1055067 non-null  float64\n",
      " 14  label          1055067 non-null  object \n",
      " 15  duration       1055067 non-null  float64\n",
      "dtypes: float64(6), int64(9), object(1)\n",
      "memory usage: 136.8+ MB\n"
     ]
    }
   ],
   "source": [
    "df_dataset.info()"
   ]
  },
  {
   "cell_type": "code",
   "execution_count": 19,
   "id": "e71e1891",
   "metadata": {},
   "outputs": [],
   "source": [
    "df_dataset = df_dataset.drop(['time_start', 'time_end'], axis=1)"
   ]
  },
  {
   "cell_type": "code",
   "execution_count": 20,
   "id": "f043214d",
   "metadata": {},
   "outputs": [],
   "source": [
    "df_dataset.replace([np.inf, -np.inf], np.nan, inplace=True)"
   ]
  },
  {
   "cell_type": "code",
   "execution_count": 21,
   "id": "3f80897e",
   "metadata": {},
   "outputs": [],
   "source": [
    "df_dataset.dropna(inplace=True)"
   ]
  },
  {
   "cell_type": "code",
   "execution_count": 22,
   "id": "5ffab025",
   "metadata": {},
   "outputs": [
    {
     "name": "stdout",
     "output_type": "stream",
     "text": [
      "152356\n"
     ]
    }
   ],
   "source": [
    "print(df_dataset.duplicated().sum())"
   ]
  },
  {
   "cell_type": "code",
   "execution_count": 23,
   "id": "aa224bd3",
   "metadata": {},
   "outputs": [],
   "source": [
    "df_dataset.drop_duplicates(inplace = True)"
   ]
  },
  {
   "cell_type": "code",
   "execution_count": 24,
   "id": "a095b1a6",
   "metadata": {},
   "outputs": [
    {
     "name": "stdout",
     "output_type": "stream",
     "text": [
      "0\n"
     ]
    }
   ],
   "source": [
    "print(df_dataset.duplicated().sum())"
   ]
  },
  {
   "cell_type": "code",
   "execution_count": 25,
   "id": "a3223ede",
   "metadata": {},
   "outputs": [
    {
     "data": {
      "text/plain": [
       "benign       457062\n",
       "malicious    252937\n",
       "outlier      170116\n",
       "Name: label, dtype: int64"
      ]
     },
     "execution_count": 25,
     "metadata": {},
     "output_type": "execute_result"
    }
   ],
   "source": [
    "#implementation of binary classifier\n",
    "df_dataset[\"label\"].value_counts()"
   ]
  },
  {
   "cell_type": "code",
   "execution_count": 26,
   "id": "dde68807",
   "metadata": {},
   "outputs": [],
   "source": [
    "old_value = 'outlier'\n",
    "new_value = 'malicious'\n",
    "df_dataset['label'] = df_dataset['label'].replace(old_value, new_value)"
   ]
  },
  {
   "cell_type": "code",
   "execution_count": 27,
   "id": "f2003b32",
   "metadata": {},
   "outputs": [],
   "source": [
    "old_value = 'malicious'\n",
    "new_value = 1\n",
    "df_dataset['label'] = df_dataset['label'].replace(old_value, new_value)"
   ]
  },
  {
   "cell_type": "code",
   "execution_count": 30,
   "id": "fa1b85d5",
   "metadata": {},
   "outputs": [],
   "source": [
    "old_value = 'benign'\n",
    "new_value = 0\n",
    "df_dataset['label'] = df_dataset['label'].replace(old_value, new_value)"
   ]
  },
  {
   "cell_type": "code",
   "execution_count": 31,
   "id": "ff622c28",
   "metadata": {},
   "outputs": [
    {
     "data": {
      "text/plain": [
       "0    457062\n",
       "1    423053\n",
       "Name: label, dtype: int64"
      ]
     },
     "execution_count": 31,
     "metadata": {},
     "output_type": "execute_result"
    }
   ],
   "source": [
    "df_dataset[\"label\"].value_counts()\n"
   ]
  },
  {
   "cell_type": "code",
   "execution_count": 32,
   "id": "bd19bea7",
   "metadata": {},
   "outputs": [
    {
     "data": {
      "text/html": [
       "        <script type=\"text/javascript\">\n",
       "        window.PlotlyConfig = {MathJaxConfig: 'local'};\n",
       "        if (window.MathJax && window.MathJax.Hub && window.MathJax.Hub.Config) {window.MathJax.Hub.Config({SVG: {font: \"STIX-Web\"}});}\n",
       "        if (typeof require !== 'undefined') {\n",
       "        require.undef(\"plotly\");\n",
       "        requirejs.config({\n",
       "            paths: {\n",
       "                'plotly': ['https://cdn.plot.ly/plotly-2.25.2.min']\n",
       "            }\n",
       "        });\n",
       "        require(['plotly'], function(Plotly) {\n",
       "            window._Plotly = Plotly;\n",
       "        });\n",
       "        }\n",
       "        </script>\n",
       "        "
      ]
     },
     "metadata": {},
     "output_type": "display_data"
    },
    {
     "data": {
      "application/vnd.plotly.v1+json": {
       "config": {
        "linkText": "Export to plot.ly",
        "plotlyServerURL": "https://plot.ly",
        "showLink": false
       },
       "data": [
        {
         "name": "Benign",
         "orientation": "v",
         "text": [
          457062
         ],
         "textposition": "outside",
         "type": "bar",
         "x": [
          "Benign"
         ],
         "y": [
          457062
         ]
        },
        {
         "name": "Malicious",
         "orientation": "v",
         "text": [
          423053
         ],
         "textposition": "outside",
         "type": "bar",
         "x": [
          "Malicious"
         ],
         "y": [
          423053
         ]
        }
       ],
       "layout": {
        "height": 600,
        "template": {
         "data": {
          "bar": [
           {
            "error_x": {
             "color": "#2a3f5f"
            },
            "error_y": {
             "color": "#2a3f5f"
            },
            "marker": {
             "line": {
              "color": "#E5ECF6",
              "width": 0.5
             },
             "pattern": {
              "fillmode": "overlay",
              "size": 10,
              "solidity": 0.2
             }
            },
            "type": "bar"
           }
          ],
          "barpolar": [
           {
            "marker": {
             "line": {
              "color": "#E5ECF6",
              "width": 0.5
             },
             "pattern": {
              "fillmode": "overlay",
              "size": 10,
              "solidity": 0.2
             }
            },
            "type": "barpolar"
           }
          ],
          "carpet": [
           {
            "aaxis": {
             "endlinecolor": "#2a3f5f",
             "gridcolor": "white",
             "linecolor": "white",
             "minorgridcolor": "white",
             "startlinecolor": "#2a3f5f"
            },
            "baxis": {
             "endlinecolor": "#2a3f5f",
             "gridcolor": "white",
             "linecolor": "white",
             "minorgridcolor": "white",
             "startlinecolor": "#2a3f5f"
            },
            "type": "carpet"
           }
          ],
          "choropleth": [
           {
            "colorbar": {
             "outlinewidth": 0,
             "ticks": ""
            },
            "type": "choropleth"
           }
          ],
          "contour": [
           {
            "colorbar": {
             "outlinewidth": 0,
             "ticks": ""
            },
            "colorscale": [
             [
              0,
              "#0d0887"
             ],
             [
              0.1111111111111111,
              "#46039f"
             ],
             [
              0.2222222222222222,
              "#7201a8"
             ],
             [
              0.3333333333333333,
              "#9c179e"
             ],
             [
              0.4444444444444444,
              "#bd3786"
             ],
             [
              0.5555555555555556,
              "#d8576b"
             ],
             [
              0.6666666666666666,
              "#ed7953"
             ],
             [
              0.7777777777777778,
              "#fb9f3a"
             ],
             [
              0.8888888888888888,
              "#fdca26"
             ],
             [
              1,
              "#f0f921"
             ]
            ],
            "type": "contour"
           }
          ],
          "contourcarpet": [
           {
            "colorbar": {
             "outlinewidth": 0,
             "ticks": ""
            },
            "type": "contourcarpet"
           }
          ],
          "heatmap": [
           {
            "colorbar": {
             "outlinewidth": 0,
             "ticks": ""
            },
            "colorscale": [
             [
              0,
              "#0d0887"
             ],
             [
              0.1111111111111111,
              "#46039f"
             ],
             [
              0.2222222222222222,
              "#7201a8"
             ],
             [
              0.3333333333333333,
              "#9c179e"
             ],
             [
              0.4444444444444444,
              "#bd3786"
             ],
             [
              0.5555555555555556,
              "#d8576b"
             ],
             [
              0.6666666666666666,
              "#ed7953"
             ],
             [
              0.7777777777777778,
              "#fb9f3a"
             ],
             [
              0.8888888888888888,
              "#fdca26"
             ],
             [
              1,
              "#f0f921"
             ]
            ],
            "type": "heatmap"
           }
          ],
          "heatmapgl": [
           {
            "colorbar": {
             "outlinewidth": 0,
             "ticks": ""
            },
            "colorscale": [
             [
              0,
              "#0d0887"
             ],
             [
              0.1111111111111111,
              "#46039f"
             ],
             [
              0.2222222222222222,
              "#7201a8"
             ],
             [
              0.3333333333333333,
              "#9c179e"
             ],
             [
              0.4444444444444444,
              "#bd3786"
             ],
             [
              0.5555555555555556,
              "#d8576b"
             ],
             [
              0.6666666666666666,
              "#ed7953"
             ],
             [
              0.7777777777777778,
              "#fb9f3a"
             ],
             [
              0.8888888888888888,
              "#fdca26"
             ],
             [
              1,
              "#f0f921"
             ]
            ],
            "type": "heatmapgl"
           }
          ],
          "histogram": [
           {
            "marker": {
             "pattern": {
              "fillmode": "overlay",
              "size": 10,
              "solidity": 0.2
             }
            },
            "type": "histogram"
           }
          ],
          "histogram2d": [
           {
            "colorbar": {
             "outlinewidth": 0,
             "ticks": ""
            },
            "colorscale": [
             [
              0,
              "#0d0887"
             ],
             [
              0.1111111111111111,
              "#46039f"
             ],
             [
              0.2222222222222222,
              "#7201a8"
             ],
             [
              0.3333333333333333,
              "#9c179e"
             ],
             [
              0.4444444444444444,
              "#bd3786"
             ],
             [
              0.5555555555555556,
              "#d8576b"
             ],
             [
              0.6666666666666666,
              "#ed7953"
             ],
             [
              0.7777777777777778,
              "#fb9f3a"
             ],
             [
              0.8888888888888888,
              "#fdca26"
             ],
             [
              1,
              "#f0f921"
             ]
            ],
            "type": "histogram2d"
           }
          ],
          "histogram2dcontour": [
           {
            "colorbar": {
             "outlinewidth": 0,
             "ticks": ""
            },
            "colorscale": [
             [
              0,
              "#0d0887"
             ],
             [
              0.1111111111111111,
              "#46039f"
             ],
             [
              0.2222222222222222,
              "#7201a8"
             ],
             [
              0.3333333333333333,
              "#9c179e"
             ],
             [
              0.4444444444444444,
              "#bd3786"
             ],
             [
              0.5555555555555556,
              "#d8576b"
             ],
             [
              0.6666666666666666,
              "#ed7953"
             ],
             [
              0.7777777777777778,
              "#fb9f3a"
             ],
             [
              0.8888888888888888,
              "#fdca26"
             ],
             [
              1,
              "#f0f921"
             ]
            ],
            "type": "histogram2dcontour"
           }
          ],
          "mesh3d": [
           {
            "colorbar": {
             "outlinewidth": 0,
             "ticks": ""
            },
            "type": "mesh3d"
           }
          ],
          "parcoords": [
           {
            "line": {
             "colorbar": {
              "outlinewidth": 0,
              "ticks": ""
             }
            },
            "type": "parcoords"
           }
          ],
          "pie": [
           {
            "automargin": true,
            "type": "pie"
           }
          ],
          "scatter": [
           {
            "fillpattern": {
             "fillmode": "overlay",
             "size": 10,
             "solidity": 0.2
            },
            "type": "scatter"
           }
          ],
          "scatter3d": [
           {
            "line": {
             "colorbar": {
              "outlinewidth": 0,
              "ticks": ""
             }
            },
            "marker": {
             "colorbar": {
              "outlinewidth": 0,
              "ticks": ""
             }
            },
            "type": "scatter3d"
           }
          ],
          "scattercarpet": [
           {
            "marker": {
             "colorbar": {
              "outlinewidth": 0,
              "ticks": ""
             }
            },
            "type": "scattercarpet"
           }
          ],
          "scattergeo": [
           {
            "marker": {
             "colorbar": {
              "outlinewidth": 0,
              "ticks": ""
             }
            },
            "type": "scattergeo"
           }
          ],
          "scattergl": [
           {
            "marker": {
             "colorbar": {
              "outlinewidth": 0,
              "ticks": ""
             }
            },
            "type": "scattergl"
           }
          ],
          "scattermapbox": [
           {
            "marker": {
             "colorbar": {
              "outlinewidth": 0,
              "ticks": ""
             }
            },
            "type": "scattermapbox"
           }
          ],
          "scatterpolar": [
           {
            "marker": {
             "colorbar": {
              "outlinewidth": 0,
              "ticks": ""
             }
            },
            "type": "scatterpolar"
           }
          ],
          "scatterpolargl": [
           {
            "marker": {
             "colorbar": {
              "outlinewidth": 0,
              "ticks": ""
             }
            },
            "type": "scatterpolargl"
           }
          ],
          "scatterternary": [
           {
            "marker": {
             "colorbar": {
              "outlinewidth": 0,
              "ticks": ""
             }
            },
            "type": "scatterternary"
           }
          ],
          "surface": [
           {
            "colorbar": {
             "outlinewidth": 0,
             "ticks": ""
            },
            "colorscale": [
             [
              0,
              "#0d0887"
             ],
             [
              0.1111111111111111,
              "#46039f"
             ],
             [
              0.2222222222222222,
              "#7201a8"
             ],
             [
              0.3333333333333333,
              "#9c179e"
             ],
             [
              0.4444444444444444,
              "#bd3786"
             ],
             [
              0.5555555555555556,
              "#d8576b"
             ],
             [
              0.6666666666666666,
              "#ed7953"
             ],
             [
              0.7777777777777778,
              "#fb9f3a"
             ],
             [
              0.8888888888888888,
              "#fdca26"
             ],
             [
              1,
              "#f0f921"
             ]
            ],
            "type": "surface"
           }
          ],
          "table": [
           {
            "cells": {
             "fill": {
              "color": "#EBF0F8"
             },
             "line": {
              "color": "white"
             }
            },
            "header": {
             "fill": {
              "color": "#C8D4E3"
             },
             "line": {
              "color": "white"
             }
            },
            "type": "table"
           }
          ]
         },
         "layout": {
          "annotationdefaults": {
           "arrowcolor": "#2a3f5f",
           "arrowhead": 0,
           "arrowwidth": 1
          },
          "autotypenumbers": "strict",
          "coloraxis": {
           "colorbar": {
            "outlinewidth": 0,
            "ticks": ""
           }
          },
          "colorscale": {
           "diverging": [
            [
             0,
             "#8e0152"
            ],
            [
             0.1,
             "#c51b7d"
            ],
            [
             0.2,
             "#de77ae"
            ],
            [
             0.3,
             "#f1b6da"
            ],
            [
             0.4,
             "#fde0ef"
            ],
            [
             0.5,
             "#f7f7f7"
            ],
            [
             0.6,
             "#e6f5d0"
            ],
            [
             0.7,
             "#b8e186"
            ],
            [
             0.8,
             "#7fbc41"
            ],
            [
             0.9,
             "#4d9221"
            ],
            [
             1,
             "#276419"
            ]
           ],
           "sequential": [
            [
             0,
             "#0d0887"
            ],
            [
             0.1111111111111111,
             "#46039f"
            ],
            [
             0.2222222222222222,
             "#7201a8"
            ],
            [
             0.3333333333333333,
             "#9c179e"
            ],
            [
             0.4444444444444444,
             "#bd3786"
            ],
            [
             0.5555555555555556,
             "#d8576b"
            ],
            [
             0.6666666666666666,
             "#ed7953"
            ],
            [
             0.7777777777777778,
             "#fb9f3a"
            ],
            [
             0.8888888888888888,
             "#fdca26"
            ],
            [
             1,
             "#f0f921"
            ]
           ],
           "sequentialminus": [
            [
             0,
             "#0d0887"
            ],
            [
             0.1111111111111111,
             "#46039f"
            ],
            [
             0.2222222222222222,
             "#7201a8"
            ],
            [
             0.3333333333333333,
             "#9c179e"
            ],
            [
             0.4444444444444444,
             "#bd3786"
            ],
            [
             0.5555555555555556,
             "#d8576b"
            ],
            [
             0.6666666666666666,
             "#ed7953"
            ],
            [
             0.7777777777777778,
             "#fb9f3a"
            ],
            [
             0.8888888888888888,
             "#fdca26"
            ],
            [
             1,
             "#f0f921"
            ]
           ]
          },
          "colorway": [
           "#636efa",
           "#EF553B",
           "#00cc96",
           "#ab63fa",
           "#FFA15A",
           "#19d3f3",
           "#FF6692",
           "#B6E880",
           "#FF97FF",
           "#FECB52"
          ],
          "font": {
           "color": "#2a3f5f"
          },
          "geo": {
           "bgcolor": "white",
           "lakecolor": "white",
           "landcolor": "#E5ECF6",
           "showlakes": true,
           "showland": true,
           "subunitcolor": "white"
          },
          "hoverlabel": {
           "align": "left"
          },
          "hovermode": "closest",
          "mapbox": {
           "style": "light"
          },
          "paper_bgcolor": "white",
          "plot_bgcolor": "#E5ECF6",
          "polar": {
           "angularaxis": {
            "gridcolor": "white",
            "linecolor": "white",
            "ticks": ""
           },
           "bgcolor": "#E5ECF6",
           "radialaxis": {
            "gridcolor": "white",
            "linecolor": "white",
            "ticks": ""
           }
          },
          "scene": {
           "xaxis": {
            "backgroundcolor": "#E5ECF6",
            "gridcolor": "white",
            "gridwidth": 2,
            "linecolor": "white",
            "showbackground": true,
            "ticks": "",
            "zerolinecolor": "white"
           },
           "yaxis": {
            "backgroundcolor": "#E5ECF6",
            "gridcolor": "white",
            "gridwidth": 2,
            "linecolor": "white",
            "showbackground": true,
            "ticks": "",
            "zerolinecolor": "white"
           },
           "zaxis": {
            "backgroundcolor": "#E5ECF6",
            "gridcolor": "white",
            "gridwidth": 2,
            "linecolor": "white",
            "showbackground": true,
            "ticks": "",
            "zerolinecolor": "white"
           }
          },
          "shapedefaults": {
           "line": {
            "color": "#2a3f5f"
           }
          },
          "ternary": {
           "aaxis": {
            "gridcolor": "white",
            "linecolor": "white",
            "ticks": ""
           },
           "baxis": {
            "gridcolor": "white",
            "linecolor": "white",
            "ticks": ""
           },
           "bgcolor": "#E5ECF6",
           "caxis": {
            "gridcolor": "white",
            "linecolor": "white",
            "ticks": ""
           }
          },
          "title": {
           "x": 0.05
          },
          "xaxis": {
           "automargin": true,
           "gridcolor": "white",
           "linecolor": "white",
           "ticks": "",
           "title": {
            "standoff": 15
           },
           "zerolinecolor": "white",
           "zerolinewidth": 2
          },
          "yaxis": {
           "automargin": true,
           "gridcolor": "white",
           "linecolor": "white",
           "ticks": "",
           "title": {
            "standoff": 15
           },
           "zerolinecolor": "white",
           "zerolinewidth": 2
          }
         }
        },
        "title": {
         "text": "Class Distribution"
        },
        "width": 800,
        "xaxis": {
         "title": {
          "text": "Attack Name"
         }
        },
        "yaxis": {
         "title": {
          "text": "Number of attacks"
         }
        }
       }
      },
      "text/html": [
       "<div>                            <div id=\"80404def-1fee-42b4-947f-9329d40f0964\" class=\"plotly-graph-div\" style=\"height:600px; width:800px;\"></div>            <script type=\"text/javascript\">                require([\"plotly\"], function(Plotly) {                    window.PLOTLYENV=window.PLOTLYENV || {};                                    if (document.getElementById(\"80404def-1fee-42b4-947f-9329d40f0964\")) {                    Plotly.newPlot(                        \"80404def-1fee-42b4-947f-9329d40f0964\",                        [{\"name\":\"Benign\",\"orientation\":\"v\",\"text\":[457062.0],\"textposition\":\"outside\",\"x\":[\"Benign\"],\"y\":[457062],\"type\":\"bar\"},{\"name\":\"Malicious\",\"orientation\":\"v\",\"text\":[423053.0],\"textposition\":\"outside\",\"x\":[\"Malicious\"],\"y\":[423053],\"type\":\"bar\"}],                        {\"height\":600,\"template\":{\"data\":{\"barpolar\":[{\"marker\":{\"line\":{\"color\":\"#E5ECF6\",\"width\":0.5},\"pattern\":{\"fillmode\":\"overlay\",\"size\":10,\"solidity\":0.2}},\"type\":\"barpolar\"}],\"bar\":[{\"error_x\":{\"color\":\"#2a3f5f\"},\"error_y\":{\"color\":\"#2a3f5f\"},\"marker\":{\"line\":{\"color\":\"#E5ECF6\",\"width\":0.5},\"pattern\":{\"fillmode\":\"overlay\",\"size\":10,\"solidity\":0.2}},\"type\":\"bar\"}],\"carpet\":[{\"aaxis\":{\"endlinecolor\":\"#2a3f5f\",\"gridcolor\":\"white\",\"linecolor\":\"white\",\"minorgridcolor\":\"white\",\"startlinecolor\":\"#2a3f5f\"},\"baxis\":{\"endlinecolor\":\"#2a3f5f\",\"gridcolor\":\"white\",\"linecolor\":\"white\",\"minorgridcolor\":\"white\",\"startlinecolor\":\"#2a3f5f\"},\"type\":\"carpet\"}],\"choropleth\":[{\"colorbar\":{\"outlinewidth\":0,\"ticks\":\"\"},\"type\":\"choropleth\"}],\"contourcarpet\":[{\"colorbar\":{\"outlinewidth\":0,\"ticks\":\"\"},\"type\":\"contourcarpet\"}],\"contour\":[{\"colorbar\":{\"outlinewidth\":0,\"ticks\":\"\"},\"colorscale\":[[0.0,\"#0d0887\"],[0.1111111111111111,\"#46039f\"],[0.2222222222222222,\"#7201a8\"],[0.3333333333333333,\"#9c179e\"],[0.4444444444444444,\"#bd3786\"],[0.5555555555555556,\"#d8576b\"],[0.6666666666666666,\"#ed7953\"],[0.7777777777777778,\"#fb9f3a\"],[0.8888888888888888,\"#fdca26\"],[1.0,\"#f0f921\"]],\"type\":\"contour\"}],\"heatmapgl\":[{\"colorbar\":{\"outlinewidth\":0,\"ticks\":\"\"},\"colorscale\":[[0.0,\"#0d0887\"],[0.1111111111111111,\"#46039f\"],[0.2222222222222222,\"#7201a8\"],[0.3333333333333333,\"#9c179e\"],[0.4444444444444444,\"#bd3786\"],[0.5555555555555556,\"#d8576b\"],[0.6666666666666666,\"#ed7953\"],[0.7777777777777778,\"#fb9f3a\"],[0.8888888888888888,\"#fdca26\"],[1.0,\"#f0f921\"]],\"type\":\"heatmapgl\"}],\"heatmap\":[{\"colorbar\":{\"outlinewidth\":0,\"ticks\":\"\"},\"colorscale\":[[0.0,\"#0d0887\"],[0.1111111111111111,\"#46039f\"],[0.2222222222222222,\"#7201a8\"],[0.3333333333333333,\"#9c179e\"],[0.4444444444444444,\"#bd3786\"],[0.5555555555555556,\"#d8576b\"],[0.6666666666666666,\"#ed7953\"],[0.7777777777777778,\"#fb9f3a\"],[0.8888888888888888,\"#fdca26\"],[1.0,\"#f0f921\"]],\"type\":\"heatmap\"}],\"histogram2dcontour\":[{\"colorbar\":{\"outlinewidth\":0,\"ticks\":\"\"},\"colorscale\":[[0.0,\"#0d0887\"],[0.1111111111111111,\"#46039f\"],[0.2222222222222222,\"#7201a8\"],[0.3333333333333333,\"#9c179e\"],[0.4444444444444444,\"#bd3786\"],[0.5555555555555556,\"#d8576b\"],[0.6666666666666666,\"#ed7953\"],[0.7777777777777778,\"#fb9f3a\"],[0.8888888888888888,\"#fdca26\"],[1.0,\"#f0f921\"]],\"type\":\"histogram2dcontour\"}],\"histogram2d\":[{\"colorbar\":{\"outlinewidth\":0,\"ticks\":\"\"},\"colorscale\":[[0.0,\"#0d0887\"],[0.1111111111111111,\"#46039f\"],[0.2222222222222222,\"#7201a8\"],[0.3333333333333333,\"#9c179e\"],[0.4444444444444444,\"#bd3786\"],[0.5555555555555556,\"#d8576b\"],[0.6666666666666666,\"#ed7953\"],[0.7777777777777778,\"#fb9f3a\"],[0.8888888888888888,\"#fdca26\"],[1.0,\"#f0f921\"]],\"type\":\"histogram2d\"}],\"histogram\":[{\"marker\":{\"pattern\":{\"fillmode\":\"overlay\",\"size\":10,\"solidity\":0.2}},\"type\":\"histogram\"}],\"mesh3d\":[{\"colorbar\":{\"outlinewidth\":0,\"ticks\":\"\"},\"type\":\"mesh3d\"}],\"parcoords\":[{\"line\":{\"colorbar\":{\"outlinewidth\":0,\"ticks\":\"\"}},\"type\":\"parcoords\"}],\"pie\":[{\"automargin\":true,\"type\":\"pie\"}],\"scatter3d\":[{\"line\":{\"colorbar\":{\"outlinewidth\":0,\"ticks\":\"\"}},\"marker\":{\"colorbar\":{\"outlinewidth\":0,\"ticks\":\"\"}},\"type\":\"scatter3d\"}],\"scattercarpet\":[{\"marker\":{\"colorbar\":{\"outlinewidth\":0,\"ticks\":\"\"}},\"type\":\"scattercarpet\"}],\"scattergeo\":[{\"marker\":{\"colorbar\":{\"outlinewidth\":0,\"ticks\":\"\"}},\"type\":\"scattergeo\"}],\"scattergl\":[{\"marker\":{\"colorbar\":{\"outlinewidth\":0,\"ticks\":\"\"}},\"type\":\"scattergl\"}],\"scattermapbox\":[{\"marker\":{\"colorbar\":{\"outlinewidth\":0,\"ticks\":\"\"}},\"type\":\"scattermapbox\"}],\"scatterpolargl\":[{\"marker\":{\"colorbar\":{\"outlinewidth\":0,\"ticks\":\"\"}},\"type\":\"scatterpolargl\"}],\"scatterpolar\":[{\"marker\":{\"colorbar\":{\"outlinewidth\":0,\"ticks\":\"\"}},\"type\":\"scatterpolar\"}],\"scatter\":[{\"fillpattern\":{\"fillmode\":\"overlay\",\"size\":10,\"solidity\":0.2},\"type\":\"scatter\"}],\"scatterternary\":[{\"marker\":{\"colorbar\":{\"outlinewidth\":0,\"ticks\":\"\"}},\"type\":\"scatterternary\"}],\"surface\":[{\"colorbar\":{\"outlinewidth\":0,\"ticks\":\"\"},\"colorscale\":[[0.0,\"#0d0887\"],[0.1111111111111111,\"#46039f\"],[0.2222222222222222,\"#7201a8\"],[0.3333333333333333,\"#9c179e\"],[0.4444444444444444,\"#bd3786\"],[0.5555555555555556,\"#d8576b\"],[0.6666666666666666,\"#ed7953\"],[0.7777777777777778,\"#fb9f3a\"],[0.8888888888888888,\"#fdca26\"],[1.0,\"#f0f921\"]],\"type\":\"surface\"}],\"table\":[{\"cells\":{\"fill\":{\"color\":\"#EBF0F8\"},\"line\":{\"color\":\"white\"}},\"header\":{\"fill\":{\"color\":\"#C8D4E3\"},\"line\":{\"color\":\"white\"}},\"type\":\"table\"}]},\"layout\":{\"annotationdefaults\":{\"arrowcolor\":\"#2a3f5f\",\"arrowhead\":0,\"arrowwidth\":1},\"autotypenumbers\":\"strict\",\"coloraxis\":{\"colorbar\":{\"outlinewidth\":0,\"ticks\":\"\"}},\"colorscale\":{\"diverging\":[[0,\"#8e0152\"],[0.1,\"#c51b7d\"],[0.2,\"#de77ae\"],[0.3,\"#f1b6da\"],[0.4,\"#fde0ef\"],[0.5,\"#f7f7f7\"],[0.6,\"#e6f5d0\"],[0.7,\"#b8e186\"],[0.8,\"#7fbc41\"],[0.9,\"#4d9221\"],[1,\"#276419\"]],\"sequential\":[[0.0,\"#0d0887\"],[0.1111111111111111,\"#46039f\"],[0.2222222222222222,\"#7201a8\"],[0.3333333333333333,\"#9c179e\"],[0.4444444444444444,\"#bd3786\"],[0.5555555555555556,\"#d8576b\"],[0.6666666666666666,\"#ed7953\"],[0.7777777777777778,\"#fb9f3a\"],[0.8888888888888888,\"#fdca26\"],[1.0,\"#f0f921\"]],\"sequentialminus\":[[0.0,\"#0d0887\"],[0.1111111111111111,\"#46039f\"],[0.2222222222222222,\"#7201a8\"],[0.3333333333333333,\"#9c179e\"],[0.4444444444444444,\"#bd3786\"],[0.5555555555555556,\"#d8576b\"],[0.6666666666666666,\"#ed7953\"],[0.7777777777777778,\"#fb9f3a\"],[0.8888888888888888,\"#fdca26\"],[1.0,\"#f0f921\"]]},\"colorway\":[\"#636efa\",\"#EF553B\",\"#00cc96\",\"#ab63fa\",\"#FFA15A\",\"#19d3f3\",\"#FF6692\",\"#B6E880\",\"#FF97FF\",\"#FECB52\"],\"font\":{\"color\":\"#2a3f5f\"},\"geo\":{\"bgcolor\":\"white\",\"lakecolor\":\"white\",\"landcolor\":\"#E5ECF6\",\"showlakes\":true,\"showland\":true,\"subunitcolor\":\"white\"},\"hoverlabel\":{\"align\":\"left\"},\"hovermode\":\"closest\",\"mapbox\":{\"style\":\"light\"},\"paper_bgcolor\":\"white\",\"plot_bgcolor\":\"#E5ECF6\",\"polar\":{\"angularaxis\":{\"gridcolor\":\"white\",\"linecolor\":\"white\",\"ticks\":\"\"},\"bgcolor\":\"#E5ECF6\",\"radialaxis\":{\"gridcolor\":\"white\",\"linecolor\":\"white\",\"ticks\":\"\"}},\"scene\":{\"xaxis\":{\"backgroundcolor\":\"#E5ECF6\",\"gridcolor\":\"white\",\"gridwidth\":2,\"linecolor\":\"white\",\"showbackground\":true,\"ticks\":\"\",\"zerolinecolor\":\"white\"},\"yaxis\":{\"backgroundcolor\":\"#E5ECF6\",\"gridcolor\":\"white\",\"gridwidth\":2,\"linecolor\":\"white\",\"showbackground\":true,\"ticks\":\"\",\"zerolinecolor\":\"white\"},\"zaxis\":{\"backgroundcolor\":\"#E5ECF6\",\"gridcolor\":\"white\",\"gridwidth\":2,\"linecolor\":\"white\",\"showbackground\":true,\"ticks\":\"\",\"zerolinecolor\":\"white\"}},\"shapedefaults\":{\"line\":{\"color\":\"#2a3f5f\"}},\"ternary\":{\"aaxis\":{\"gridcolor\":\"white\",\"linecolor\":\"white\",\"ticks\":\"\"},\"baxis\":{\"gridcolor\":\"white\",\"linecolor\":\"white\",\"ticks\":\"\"},\"bgcolor\":\"#E5ECF6\",\"caxis\":{\"gridcolor\":\"white\",\"linecolor\":\"white\",\"ticks\":\"\"}},\"title\":{\"x\":0.05},\"xaxis\":{\"automargin\":true,\"gridcolor\":\"white\",\"linecolor\":\"white\",\"ticks\":\"\",\"title\":{\"standoff\":15},\"zerolinecolor\":\"white\",\"zerolinewidth\":2},\"yaxis\":{\"automargin\":true,\"gridcolor\":\"white\",\"linecolor\":\"white\",\"ticks\":\"\",\"title\":{\"standoff\":15},\"zerolinecolor\":\"white\",\"zerolinewidth\":2}}},\"title\":{\"text\":\"Class Distribution\"},\"width\":800,\"xaxis\":{\"title\":{\"text\":\"Attack Name\"}},\"yaxis\":{\"title\":{\"text\":\"Number of attacks\"}}},                        {\"responsive\": true}                    ).then(function(){\n",
       "                            \n",
       "var gd = document.getElementById('80404def-1fee-42b4-947f-9329d40f0964');\n",
       "var x = new MutationObserver(function (mutations, observer) {{\n",
       "        var display = window.getComputedStyle(gd).display;\n",
       "        if (!display || display === 'none') {{\n",
       "            console.log([gd, 'removed!']);\n",
       "            Plotly.purge(gd);\n",
       "            observer.disconnect();\n",
       "        }}\n",
       "}});\n",
       "\n",
       "// Listen for the removal of the full notebook cells\n",
       "var notebookContainer = gd.closest('#notebook-container');\n",
       "if (notebookContainer) {{\n",
       "    x.observe(notebookContainer, {childList: true});\n",
       "}}\n",
       "\n",
       "// Listen for the clearing of the current output cell\n",
       "var outputEl = gd.closest('.output');\n",
       "if (outputEl) {{\n",
       "    x.observe(outputEl, {childList: true});\n",
       "}}\n",
       "\n",
       "                        })                };                });            </script>        </div>"
      ]
     },
     "metadata": {},
     "output_type": "display_data"
    }
   ],
   "source": [
    "import pandas as pd\n",
    "import numpy as np\n",
    "import matplotlib.pyplot as plt\n",
    "import joblib\n",
    "import sklearn\n",
    "from sklearn.preprocessing import MinMaxScaler\n",
    "from sklearn.ensemble import RandomForestClassifier\n",
    "from sklearn.model_selection import GridSearchCV, train_test_split\n",
    "from sklearn.metrics import accuracy_score, classification_report, confusion_matrix\n",
    "from sklearn.utils import class_weight\n",
    "\n",
    "RANDOM_STATE_SEED = 12\n",
    "\n",
    "from plotly.offline import init_notebook_mode, iplot, plot\n",
    "import plotly as py\n",
    "import plotly.express as px\n",
    "init_notebook_mode(connected=True)\n",
    "import plotly.graph_objs as go\n",
    "\n",
    "df = df_dataset\n",
    "fig = go.Figure(data=[\n",
    "    go.Bar(name='Benign', \n",
    "           y=df[\"label\"].value_counts().values[0:1],\n",
    "           x=['Benign'],\n",
    "           text = df[\"label\"].value_counts()[0:1],\n",
    "           orientation='v',\n",
    "           textposition='outside',),\n",
    "    go.Bar(name='Malicious', \n",
    "           y=df[\"label\"].value_counts().values[1:2],\n",
    "           x=['Malicious'],\n",
    "           text = df[\"label\"].value_counts()[1:2],\n",
    "           orientation='v',\n",
    "           textposition='outside',)\n",
    "])\n",
    "# Change the bar mode\n",
    "fig.update_layout(\n",
    "                  width=800,\n",
    "                  height=600,\n",
    "                  title=f'Class Distribution',\n",
    "                  yaxis_title='Number of attacks',\n",
    "                  xaxis_title='Attack Name',)\n",
    "iplot(fig)\n"
   ]
  },
  {
   "cell_type": "code",
   "execution_count": 33,
   "id": "f0a79e54",
   "metadata": {},
   "outputs": [],
   "source": [
    "df1 = df[df[\"label\"] == 0][: 300000]\n",
    "df2 = df[df[\"label\"] == 1][: 300000]\n",
    "df_equal = pd.concat([ df1,df2], axis =0)"
   ]
  },
  {
   "cell_type": "code",
   "execution_count": 34,
   "id": "fb2594c3",
   "metadata": {},
   "outputs": [
    {
     "data": {
      "application/vnd.plotly.v1+json": {
       "config": {
        "linkText": "Export to plot.ly",
        "plotlyServerURL": "https://plot.ly",
        "showLink": false
       },
       "data": [
        {
         "name": "Benign",
         "orientation": "v",
         "text": [
          300000
         ],
         "textposition": "outside",
         "type": "bar",
         "x": [
          "Benign"
         ],
         "y": [
          300000
         ]
        },
        {
         "name": "Malicious",
         "orientation": "v",
         "text": [
          300000
         ],
         "textposition": "outside",
         "type": "bar",
         "x": [
          "Malicious"
         ],
         "y": [
          300000
         ]
        }
       ],
       "layout": {
        "height": 600,
        "template": {
         "data": {
          "bar": [
           {
            "error_x": {
             "color": "#2a3f5f"
            },
            "error_y": {
             "color": "#2a3f5f"
            },
            "marker": {
             "line": {
              "color": "#E5ECF6",
              "width": 0.5
             },
             "pattern": {
              "fillmode": "overlay",
              "size": 10,
              "solidity": 0.2
             }
            },
            "type": "bar"
           }
          ],
          "barpolar": [
           {
            "marker": {
             "line": {
              "color": "#E5ECF6",
              "width": 0.5
             },
             "pattern": {
              "fillmode": "overlay",
              "size": 10,
              "solidity": 0.2
             }
            },
            "type": "barpolar"
           }
          ],
          "carpet": [
           {
            "aaxis": {
             "endlinecolor": "#2a3f5f",
             "gridcolor": "white",
             "linecolor": "white",
             "minorgridcolor": "white",
             "startlinecolor": "#2a3f5f"
            },
            "baxis": {
             "endlinecolor": "#2a3f5f",
             "gridcolor": "white",
             "linecolor": "white",
             "minorgridcolor": "white",
             "startlinecolor": "#2a3f5f"
            },
            "type": "carpet"
           }
          ],
          "choropleth": [
           {
            "colorbar": {
             "outlinewidth": 0,
             "ticks": ""
            },
            "type": "choropleth"
           }
          ],
          "contour": [
           {
            "colorbar": {
             "outlinewidth": 0,
             "ticks": ""
            },
            "colorscale": [
             [
              0,
              "#0d0887"
             ],
             [
              0.1111111111111111,
              "#46039f"
             ],
             [
              0.2222222222222222,
              "#7201a8"
             ],
             [
              0.3333333333333333,
              "#9c179e"
             ],
             [
              0.4444444444444444,
              "#bd3786"
             ],
             [
              0.5555555555555556,
              "#d8576b"
             ],
             [
              0.6666666666666666,
              "#ed7953"
             ],
             [
              0.7777777777777778,
              "#fb9f3a"
             ],
             [
              0.8888888888888888,
              "#fdca26"
             ],
             [
              1,
              "#f0f921"
             ]
            ],
            "type": "contour"
           }
          ],
          "contourcarpet": [
           {
            "colorbar": {
             "outlinewidth": 0,
             "ticks": ""
            },
            "type": "contourcarpet"
           }
          ],
          "heatmap": [
           {
            "colorbar": {
             "outlinewidth": 0,
             "ticks": ""
            },
            "colorscale": [
             [
              0,
              "#0d0887"
             ],
             [
              0.1111111111111111,
              "#46039f"
             ],
             [
              0.2222222222222222,
              "#7201a8"
             ],
             [
              0.3333333333333333,
              "#9c179e"
             ],
             [
              0.4444444444444444,
              "#bd3786"
             ],
             [
              0.5555555555555556,
              "#d8576b"
             ],
             [
              0.6666666666666666,
              "#ed7953"
             ],
             [
              0.7777777777777778,
              "#fb9f3a"
             ],
             [
              0.8888888888888888,
              "#fdca26"
             ],
             [
              1,
              "#f0f921"
             ]
            ],
            "type": "heatmap"
           }
          ],
          "heatmapgl": [
           {
            "colorbar": {
             "outlinewidth": 0,
             "ticks": ""
            },
            "colorscale": [
             [
              0,
              "#0d0887"
             ],
             [
              0.1111111111111111,
              "#46039f"
             ],
             [
              0.2222222222222222,
              "#7201a8"
             ],
             [
              0.3333333333333333,
              "#9c179e"
             ],
             [
              0.4444444444444444,
              "#bd3786"
             ],
             [
              0.5555555555555556,
              "#d8576b"
             ],
             [
              0.6666666666666666,
              "#ed7953"
             ],
             [
              0.7777777777777778,
              "#fb9f3a"
             ],
             [
              0.8888888888888888,
              "#fdca26"
             ],
             [
              1,
              "#f0f921"
             ]
            ],
            "type": "heatmapgl"
           }
          ],
          "histogram": [
           {
            "marker": {
             "pattern": {
              "fillmode": "overlay",
              "size": 10,
              "solidity": 0.2
             }
            },
            "type": "histogram"
           }
          ],
          "histogram2d": [
           {
            "colorbar": {
             "outlinewidth": 0,
             "ticks": ""
            },
            "colorscale": [
             [
              0,
              "#0d0887"
             ],
             [
              0.1111111111111111,
              "#46039f"
             ],
             [
              0.2222222222222222,
              "#7201a8"
             ],
             [
              0.3333333333333333,
              "#9c179e"
             ],
             [
              0.4444444444444444,
              "#bd3786"
             ],
             [
              0.5555555555555556,
              "#d8576b"
             ],
             [
              0.6666666666666666,
              "#ed7953"
             ],
             [
              0.7777777777777778,
              "#fb9f3a"
             ],
             [
              0.8888888888888888,
              "#fdca26"
             ],
             [
              1,
              "#f0f921"
             ]
            ],
            "type": "histogram2d"
           }
          ],
          "histogram2dcontour": [
           {
            "colorbar": {
             "outlinewidth": 0,
             "ticks": ""
            },
            "colorscale": [
             [
              0,
              "#0d0887"
             ],
             [
              0.1111111111111111,
              "#46039f"
             ],
             [
              0.2222222222222222,
              "#7201a8"
             ],
             [
              0.3333333333333333,
              "#9c179e"
             ],
             [
              0.4444444444444444,
              "#bd3786"
             ],
             [
              0.5555555555555556,
              "#d8576b"
             ],
             [
              0.6666666666666666,
              "#ed7953"
             ],
             [
              0.7777777777777778,
              "#fb9f3a"
             ],
             [
              0.8888888888888888,
              "#fdca26"
             ],
             [
              1,
              "#f0f921"
             ]
            ],
            "type": "histogram2dcontour"
           }
          ],
          "mesh3d": [
           {
            "colorbar": {
             "outlinewidth": 0,
             "ticks": ""
            },
            "type": "mesh3d"
           }
          ],
          "parcoords": [
           {
            "line": {
             "colorbar": {
              "outlinewidth": 0,
              "ticks": ""
             }
            },
            "type": "parcoords"
           }
          ],
          "pie": [
           {
            "automargin": true,
            "type": "pie"
           }
          ],
          "scatter": [
           {
            "fillpattern": {
             "fillmode": "overlay",
             "size": 10,
             "solidity": 0.2
            },
            "type": "scatter"
           }
          ],
          "scatter3d": [
           {
            "line": {
             "colorbar": {
              "outlinewidth": 0,
              "ticks": ""
             }
            },
            "marker": {
             "colorbar": {
              "outlinewidth": 0,
              "ticks": ""
             }
            },
            "type": "scatter3d"
           }
          ],
          "scattercarpet": [
           {
            "marker": {
             "colorbar": {
              "outlinewidth": 0,
              "ticks": ""
             }
            },
            "type": "scattercarpet"
           }
          ],
          "scattergeo": [
           {
            "marker": {
             "colorbar": {
              "outlinewidth": 0,
              "ticks": ""
             }
            },
            "type": "scattergeo"
           }
          ],
          "scattergl": [
           {
            "marker": {
             "colorbar": {
              "outlinewidth": 0,
              "ticks": ""
             }
            },
            "type": "scattergl"
           }
          ],
          "scattermapbox": [
           {
            "marker": {
             "colorbar": {
              "outlinewidth": 0,
              "ticks": ""
             }
            },
            "type": "scattermapbox"
           }
          ],
          "scatterpolar": [
           {
            "marker": {
             "colorbar": {
              "outlinewidth": 0,
              "ticks": ""
             }
            },
            "type": "scatterpolar"
           }
          ],
          "scatterpolargl": [
           {
            "marker": {
             "colorbar": {
              "outlinewidth": 0,
              "ticks": ""
             }
            },
            "type": "scatterpolargl"
           }
          ],
          "scatterternary": [
           {
            "marker": {
             "colorbar": {
              "outlinewidth": 0,
              "ticks": ""
             }
            },
            "type": "scatterternary"
           }
          ],
          "surface": [
           {
            "colorbar": {
             "outlinewidth": 0,
             "ticks": ""
            },
            "colorscale": [
             [
              0,
              "#0d0887"
             ],
             [
              0.1111111111111111,
              "#46039f"
             ],
             [
              0.2222222222222222,
              "#7201a8"
             ],
             [
              0.3333333333333333,
              "#9c179e"
             ],
             [
              0.4444444444444444,
              "#bd3786"
             ],
             [
              0.5555555555555556,
              "#d8576b"
             ],
             [
              0.6666666666666666,
              "#ed7953"
             ],
             [
              0.7777777777777778,
              "#fb9f3a"
             ],
             [
              0.8888888888888888,
              "#fdca26"
             ],
             [
              1,
              "#f0f921"
             ]
            ],
            "type": "surface"
           }
          ],
          "table": [
           {
            "cells": {
             "fill": {
              "color": "#EBF0F8"
             },
             "line": {
              "color": "white"
             }
            },
            "header": {
             "fill": {
              "color": "#C8D4E3"
             },
             "line": {
              "color": "white"
             }
            },
            "type": "table"
           }
          ]
         },
         "layout": {
          "annotationdefaults": {
           "arrowcolor": "#2a3f5f",
           "arrowhead": 0,
           "arrowwidth": 1
          },
          "autotypenumbers": "strict",
          "coloraxis": {
           "colorbar": {
            "outlinewidth": 0,
            "ticks": ""
           }
          },
          "colorscale": {
           "diverging": [
            [
             0,
             "#8e0152"
            ],
            [
             0.1,
             "#c51b7d"
            ],
            [
             0.2,
             "#de77ae"
            ],
            [
             0.3,
             "#f1b6da"
            ],
            [
             0.4,
             "#fde0ef"
            ],
            [
             0.5,
             "#f7f7f7"
            ],
            [
             0.6,
             "#e6f5d0"
            ],
            [
             0.7,
             "#b8e186"
            ],
            [
             0.8,
             "#7fbc41"
            ],
            [
             0.9,
             "#4d9221"
            ],
            [
             1,
             "#276419"
            ]
           ],
           "sequential": [
            [
             0,
             "#0d0887"
            ],
            [
             0.1111111111111111,
             "#46039f"
            ],
            [
             0.2222222222222222,
             "#7201a8"
            ],
            [
             0.3333333333333333,
             "#9c179e"
            ],
            [
             0.4444444444444444,
             "#bd3786"
            ],
            [
             0.5555555555555556,
             "#d8576b"
            ],
            [
             0.6666666666666666,
             "#ed7953"
            ],
            [
             0.7777777777777778,
             "#fb9f3a"
            ],
            [
             0.8888888888888888,
             "#fdca26"
            ],
            [
             1,
             "#f0f921"
            ]
           ],
           "sequentialminus": [
            [
             0,
             "#0d0887"
            ],
            [
             0.1111111111111111,
             "#46039f"
            ],
            [
             0.2222222222222222,
             "#7201a8"
            ],
            [
             0.3333333333333333,
             "#9c179e"
            ],
            [
             0.4444444444444444,
             "#bd3786"
            ],
            [
             0.5555555555555556,
             "#d8576b"
            ],
            [
             0.6666666666666666,
             "#ed7953"
            ],
            [
             0.7777777777777778,
             "#fb9f3a"
            ],
            [
             0.8888888888888888,
             "#fdca26"
            ],
            [
             1,
             "#f0f921"
            ]
           ]
          },
          "colorway": [
           "#636efa",
           "#EF553B",
           "#00cc96",
           "#ab63fa",
           "#FFA15A",
           "#19d3f3",
           "#FF6692",
           "#B6E880",
           "#FF97FF",
           "#FECB52"
          ],
          "font": {
           "color": "#2a3f5f"
          },
          "geo": {
           "bgcolor": "white",
           "lakecolor": "white",
           "landcolor": "#E5ECF6",
           "showlakes": true,
           "showland": true,
           "subunitcolor": "white"
          },
          "hoverlabel": {
           "align": "left"
          },
          "hovermode": "closest",
          "mapbox": {
           "style": "light"
          },
          "paper_bgcolor": "white",
          "plot_bgcolor": "#E5ECF6",
          "polar": {
           "angularaxis": {
            "gridcolor": "white",
            "linecolor": "white",
            "ticks": ""
           },
           "bgcolor": "#E5ECF6",
           "radialaxis": {
            "gridcolor": "white",
            "linecolor": "white",
            "ticks": ""
           }
          },
          "scene": {
           "xaxis": {
            "backgroundcolor": "#E5ECF6",
            "gridcolor": "white",
            "gridwidth": 2,
            "linecolor": "white",
            "showbackground": true,
            "ticks": "",
            "zerolinecolor": "white"
           },
           "yaxis": {
            "backgroundcolor": "#E5ECF6",
            "gridcolor": "white",
            "gridwidth": 2,
            "linecolor": "white",
            "showbackground": true,
            "ticks": "",
            "zerolinecolor": "white"
           },
           "zaxis": {
            "backgroundcolor": "#E5ECF6",
            "gridcolor": "white",
            "gridwidth": 2,
            "linecolor": "white",
            "showbackground": true,
            "ticks": "",
            "zerolinecolor": "white"
           }
          },
          "shapedefaults": {
           "line": {
            "color": "#2a3f5f"
           }
          },
          "ternary": {
           "aaxis": {
            "gridcolor": "white",
            "linecolor": "white",
            "ticks": ""
           },
           "baxis": {
            "gridcolor": "white",
            "linecolor": "white",
            "ticks": ""
           },
           "bgcolor": "#E5ECF6",
           "caxis": {
            "gridcolor": "white",
            "linecolor": "white",
            "ticks": ""
           }
          },
          "title": {
           "x": 0.05
          },
          "xaxis": {
           "automargin": true,
           "gridcolor": "white",
           "linecolor": "white",
           "ticks": "",
           "title": {
            "standoff": 15
           },
           "zerolinecolor": "white",
           "zerolinewidth": 2
          },
          "yaxis": {
           "automargin": true,
           "gridcolor": "white",
           "linecolor": "white",
           "ticks": "",
           "title": {
            "standoff": 15
           },
           "zerolinecolor": "white",
           "zerolinewidth": 2
          }
         }
        },
        "title": {
         "text": "Class Distribution"
        },
        "width": 800,
        "xaxis": {
         "title": {
          "text": "Attack Name"
         }
        },
        "yaxis": {
         "title": {
          "text": "Number of attacks"
         }
        }
       }
      },
      "text/html": [
       "<div>                            <div id=\"7de3db85-e18e-481c-8698-b65f6ac08b23\" class=\"plotly-graph-div\" style=\"height:600px; width:800px;\"></div>            <script type=\"text/javascript\">                require([\"plotly\"], function(Plotly) {                    window.PLOTLYENV=window.PLOTLYENV || {};                                    if (document.getElementById(\"7de3db85-e18e-481c-8698-b65f6ac08b23\")) {                    Plotly.newPlot(                        \"7de3db85-e18e-481c-8698-b65f6ac08b23\",                        [{\"name\":\"Benign\",\"orientation\":\"v\",\"text\":[300000.0],\"textposition\":\"outside\",\"x\":[\"Benign\"],\"y\":[300000],\"type\":\"bar\"},{\"name\":\"Malicious\",\"orientation\":\"v\",\"text\":[300000.0],\"textposition\":\"outside\",\"x\":[\"Malicious\"],\"y\":[300000],\"type\":\"bar\"}],                        {\"height\":600,\"template\":{\"data\":{\"barpolar\":[{\"marker\":{\"line\":{\"color\":\"#E5ECF6\",\"width\":0.5},\"pattern\":{\"fillmode\":\"overlay\",\"size\":10,\"solidity\":0.2}},\"type\":\"barpolar\"}],\"bar\":[{\"error_x\":{\"color\":\"#2a3f5f\"},\"error_y\":{\"color\":\"#2a3f5f\"},\"marker\":{\"line\":{\"color\":\"#E5ECF6\",\"width\":0.5},\"pattern\":{\"fillmode\":\"overlay\",\"size\":10,\"solidity\":0.2}},\"type\":\"bar\"}],\"carpet\":[{\"aaxis\":{\"endlinecolor\":\"#2a3f5f\",\"gridcolor\":\"white\",\"linecolor\":\"white\",\"minorgridcolor\":\"white\",\"startlinecolor\":\"#2a3f5f\"},\"baxis\":{\"endlinecolor\":\"#2a3f5f\",\"gridcolor\":\"white\",\"linecolor\":\"white\",\"minorgridcolor\":\"white\",\"startlinecolor\":\"#2a3f5f\"},\"type\":\"carpet\"}],\"choropleth\":[{\"colorbar\":{\"outlinewidth\":0,\"ticks\":\"\"},\"type\":\"choropleth\"}],\"contourcarpet\":[{\"colorbar\":{\"outlinewidth\":0,\"ticks\":\"\"},\"type\":\"contourcarpet\"}],\"contour\":[{\"colorbar\":{\"outlinewidth\":0,\"ticks\":\"\"},\"colorscale\":[[0.0,\"#0d0887\"],[0.1111111111111111,\"#46039f\"],[0.2222222222222222,\"#7201a8\"],[0.3333333333333333,\"#9c179e\"],[0.4444444444444444,\"#bd3786\"],[0.5555555555555556,\"#d8576b\"],[0.6666666666666666,\"#ed7953\"],[0.7777777777777778,\"#fb9f3a\"],[0.8888888888888888,\"#fdca26\"],[1.0,\"#f0f921\"]],\"type\":\"contour\"}],\"heatmapgl\":[{\"colorbar\":{\"outlinewidth\":0,\"ticks\":\"\"},\"colorscale\":[[0.0,\"#0d0887\"],[0.1111111111111111,\"#46039f\"],[0.2222222222222222,\"#7201a8\"],[0.3333333333333333,\"#9c179e\"],[0.4444444444444444,\"#bd3786\"],[0.5555555555555556,\"#d8576b\"],[0.6666666666666666,\"#ed7953\"],[0.7777777777777778,\"#fb9f3a\"],[0.8888888888888888,\"#fdca26\"],[1.0,\"#f0f921\"]],\"type\":\"heatmapgl\"}],\"heatmap\":[{\"colorbar\":{\"outlinewidth\":0,\"ticks\":\"\"},\"colorscale\":[[0.0,\"#0d0887\"],[0.1111111111111111,\"#46039f\"],[0.2222222222222222,\"#7201a8\"],[0.3333333333333333,\"#9c179e\"],[0.4444444444444444,\"#bd3786\"],[0.5555555555555556,\"#d8576b\"],[0.6666666666666666,\"#ed7953\"],[0.7777777777777778,\"#fb9f3a\"],[0.8888888888888888,\"#fdca26\"],[1.0,\"#f0f921\"]],\"type\":\"heatmap\"}],\"histogram2dcontour\":[{\"colorbar\":{\"outlinewidth\":0,\"ticks\":\"\"},\"colorscale\":[[0.0,\"#0d0887\"],[0.1111111111111111,\"#46039f\"],[0.2222222222222222,\"#7201a8\"],[0.3333333333333333,\"#9c179e\"],[0.4444444444444444,\"#bd3786\"],[0.5555555555555556,\"#d8576b\"],[0.6666666666666666,\"#ed7953\"],[0.7777777777777778,\"#fb9f3a\"],[0.8888888888888888,\"#fdca26\"],[1.0,\"#f0f921\"]],\"type\":\"histogram2dcontour\"}],\"histogram2d\":[{\"colorbar\":{\"outlinewidth\":0,\"ticks\":\"\"},\"colorscale\":[[0.0,\"#0d0887\"],[0.1111111111111111,\"#46039f\"],[0.2222222222222222,\"#7201a8\"],[0.3333333333333333,\"#9c179e\"],[0.4444444444444444,\"#bd3786\"],[0.5555555555555556,\"#d8576b\"],[0.6666666666666666,\"#ed7953\"],[0.7777777777777778,\"#fb9f3a\"],[0.8888888888888888,\"#fdca26\"],[1.0,\"#f0f921\"]],\"type\":\"histogram2d\"}],\"histogram\":[{\"marker\":{\"pattern\":{\"fillmode\":\"overlay\",\"size\":10,\"solidity\":0.2}},\"type\":\"histogram\"}],\"mesh3d\":[{\"colorbar\":{\"outlinewidth\":0,\"ticks\":\"\"},\"type\":\"mesh3d\"}],\"parcoords\":[{\"line\":{\"colorbar\":{\"outlinewidth\":0,\"ticks\":\"\"}},\"type\":\"parcoords\"}],\"pie\":[{\"automargin\":true,\"type\":\"pie\"}],\"scatter3d\":[{\"line\":{\"colorbar\":{\"outlinewidth\":0,\"ticks\":\"\"}},\"marker\":{\"colorbar\":{\"outlinewidth\":0,\"ticks\":\"\"}},\"type\":\"scatter3d\"}],\"scattercarpet\":[{\"marker\":{\"colorbar\":{\"outlinewidth\":0,\"ticks\":\"\"}},\"type\":\"scattercarpet\"}],\"scattergeo\":[{\"marker\":{\"colorbar\":{\"outlinewidth\":0,\"ticks\":\"\"}},\"type\":\"scattergeo\"}],\"scattergl\":[{\"marker\":{\"colorbar\":{\"outlinewidth\":0,\"ticks\":\"\"}},\"type\":\"scattergl\"}],\"scattermapbox\":[{\"marker\":{\"colorbar\":{\"outlinewidth\":0,\"ticks\":\"\"}},\"type\":\"scattermapbox\"}],\"scatterpolargl\":[{\"marker\":{\"colorbar\":{\"outlinewidth\":0,\"ticks\":\"\"}},\"type\":\"scatterpolargl\"}],\"scatterpolar\":[{\"marker\":{\"colorbar\":{\"outlinewidth\":0,\"ticks\":\"\"}},\"type\":\"scatterpolar\"}],\"scatter\":[{\"fillpattern\":{\"fillmode\":\"overlay\",\"size\":10,\"solidity\":0.2},\"type\":\"scatter\"}],\"scatterternary\":[{\"marker\":{\"colorbar\":{\"outlinewidth\":0,\"ticks\":\"\"}},\"type\":\"scatterternary\"}],\"surface\":[{\"colorbar\":{\"outlinewidth\":0,\"ticks\":\"\"},\"colorscale\":[[0.0,\"#0d0887\"],[0.1111111111111111,\"#46039f\"],[0.2222222222222222,\"#7201a8\"],[0.3333333333333333,\"#9c179e\"],[0.4444444444444444,\"#bd3786\"],[0.5555555555555556,\"#d8576b\"],[0.6666666666666666,\"#ed7953\"],[0.7777777777777778,\"#fb9f3a\"],[0.8888888888888888,\"#fdca26\"],[1.0,\"#f0f921\"]],\"type\":\"surface\"}],\"table\":[{\"cells\":{\"fill\":{\"color\":\"#EBF0F8\"},\"line\":{\"color\":\"white\"}},\"header\":{\"fill\":{\"color\":\"#C8D4E3\"},\"line\":{\"color\":\"white\"}},\"type\":\"table\"}]},\"layout\":{\"annotationdefaults\":{\"arrowcolor\":\"#2a3f5f\",\"arrowhead\":0,\"arrowwidth\":1},\"autotypenumbers\":\"strict\",\"coloraxis\":{\"colorbar\":{\"outlinewidth\":0,\"ticks\":\"\"}},\"colorscale\":{\"diverging\":[[0,\"#8e0152\"],[0.1,\"#c51b7d\"],[0.2,\"#de77ae\"],[0.3,\"#f1b6da\"],[0.4,\"#fde0ef\"],[0.5,\"#f7f7f7\"],[0.6,\"#e6f5d0\"],[0.7,\"#b8e186\"],[0.8,\"#7fbc41\"],[0.9,\"#4d9221\"],[1,\"#276419\"]],\"sequential\":[[0.0,\"#0d0887\"],[0.1111111111111111,\"#46039f\"],[0.2222222222222222,\"#7201a8\"],[0.3333333333333333,\"#9c179e\"],[0.4444444444444444,\"#bd3786\"],[0.5555555555555556,\"#d8576b\"],[0.6666666666666666,\"#ed7953\"],[0.7777777777777778,\"#fb9f3a\"],[0.8888888888888888,\"#fdca26\"],[1.0,\"#f0f921\"]],\"sequentialminus\":[[0.0,\"#0d0887\"],[0.1111111111111111,\"#46039f\"],[0.2222222222222222,\"#7201a8\"],[0.3333333333333333,\"#9c179e\"],[0.4444444444444444,\"#bd3786\"],[0.5555555555555556,\"#d8576b\"],[0.6666666666666666,\"#ed7953\"],[0.7777777777777778,\"#fb9f3a\"],[0.8888888888888888,\"#fdca26\"],[1.0,\"#f0f921\"]]},\"colorway\":[\"#636efa\",\"#EF553B\",\"#00cc96\",\"#ab63fa\",\"#FFA15A\",\"#19d3f3\",\"#FF6692\",\"#B6E880\",\"#FF97FF\",\"#FECB52\"],\"font\":{\"color\":\"#2a3f5f\"},\"geo\":{\"bgcolor\":\"white\",\"lakecolor\":\"white\",\"landcolor\":\"#E5ECF6\",\"showlakes\":true,\"showland\":true,\"subunitcolor\":\"white\"},\"hoverlabel\":{\"align\":\"left\"},\"hovermode\":\"closest\",\"mapbox\":{\"style\":\"light\"},\"paper_bgcolor\":\"white\",\"plot_bgcolor\":\"#E5ECF6\",\"polar\":{\"angularaxis\":{\"gridcolor\":\"white\",\"linecolor\":\"white\",\"ticks\":\"\"},\"bgcolor\":\"#E5ECF6\",\"radialaxis\":{\"gridcolor\":\"white\",\"linecolor\":\"white\",\"ticks\":\"\"}},\"scene\":{\"xaxis\":{\"backgroundcolor\":\"#E5ECF6\",\"gridcolor\":\"white\",\"gridwidth\":2,\"linecolor\":\"white\",\"showbackground\":true,\"ticks\":\"\",\"zerolinecolor\":\"white\"},\"yaxis\":{\"backgroundcolor\":\"#E5ECF6\",\"gridcolor\":\"white\",\"gridwidth\":2,\"linecolor\":\"white\",\"showbackground\":true,\"ticks\":\"\",\"zerolinecolor\":\"white\"},\"zaxis\":{\"backgroundcolor\":\"#E5ECF6\",\"gridcolor\":\"white\",\"gridwidth\":2,\"linecolor\":\"white\",\"showbackground\":true,\"ticks\":\"\",\"zerolinecolor\":\"white\"}},\"shapedefaults\":{\"line\":{\"color\":\"#2a3f5f\"}},\"ternary\":{\"aaxis\":{\"gridcolor\":\"white\",\"linecolor\":\"white\",\"ticks\":\"\"},\"baxis\":{\"gridcolor\":\"white\",\"linecolor\":\"white\",\"ticks\":\"\"},\"bgcolor\":\"#E5ECF6\",\"caxis\":{\"gridcolor\":\"white\",\"linecolor\":\"white\",\"ticks\":\"\"}},\"title\":{\"x\":0.05},\"xaxis\":{\"automargin\":true,\"gridcolor\":\"white\",\"linecolor\":\"white\",\"ticks\":\"\",\"title\":{\"standoff\":15},\"zerolinecolor\":\"white\",\"zerolinewidth\":2},\"yaxis\":{\"automargin\":true,\"gridcolor\":\"white\",\"linecolor\":\"white\",\"ticks\":\"\",\"title\":{\"standoff\":15},\"zerolinecolor\":\"white\",\"zerolinewidth\":2}}},\"title\":{\"text\":\"Class Distribution\"},\"width\":800,\"xaxis\":{\"title\":{\"text\":\"Attack Name\"}},\"yaxis\":{\"title\":{\"text\":\"Number of attacks\"}}},                        {\"responsive\": true}                    ).then(function(){\n",
       "                            \n",
       "var gd = document.getElementById('7de3db85-e18e-481c-8698-b65f6ac08b23');\n",
       "var x = new MutationObserver(function (mutations, observer) {{\n",
       "        var display = window.getComputedStyle(gd).display;\n",
       "        if (!display || display === 'none') {{\n",
       "            console.log([gd, 'removed!']);\n",
       "            Plotly.purge(gd);\n",
       "            observer.disconnect();\n",
       "        }}\n",
       "}});\n",
       "\n",
       "// Listen for the removal of the full notebook cells\n",
       "var notebookContainer = gd.closest('#notebook-container');\n",
       "if (notebookContainer) {{\n",
       "    x.observe(notebookContainer, {childList: true});\n",
       "}}\n",
       "\n",
       "// Listen for the clearing of the current output cell\n",
       "var outputEl = gd.closest('.output');\n",
       "if (outputEl) {{\n",
       "    x.observe(outputEl, {childList: true});\n",
       "}}\n",
       "\n",
       "                        })                };                });            </script>        </div>"
      ]
     },
     "metadata": {},
     "output_type": "display_data"
    }
   ],
   "source": [
    "from sklearn.model_selection import RandomizedSearchCV\n",
    "from scipy.stats import randint\n",
    "fig = go.Figure(data=[\n",
    "    go.Bar(name='Benign', \n",
    "           y=df_equal[\"label\"].value_counts().values[0:1],\n",
    "           x=['Benign'],\n",
    "           text = df_equal[\"label\"].value_counts()[0:1],\n",
    "           orientation='v',\n",
    "           textposition='outside',),\n",
    "    go.Bar(name='Malicious', \n",
    "           y=df_equal[\"label\"].value_counts().values[1:2],\n",
    "           x=['Malicious'],\n",
    "           text = df_equal[\"label\"].value_counts()[1:2],\n",
    "           orientation='v',\n",
    "           textposition='outside',)\n",
    "])\n",
    "# Change the bar mode\n",
    "fig.update_layout(\n",
    "                  width=800,\n",
    "                  height=600,\n",
    "                  title=f'Class Distribution',\n",
    "                  yaxis_title='Number of attacks',\n",
    "                  xaxis_title='Attack Name',)\n",
    "iplot(fig)"
   ]
  },
  {
   "cell_type": "code",
   "execution_count": 35,
   "id": "0035f505",
   "metadata": {},
   "outputs": [
    {
     "data": {
      "text/plain": [
       "Index(['avg_ipt', 'bytes_in', 'bytes_out', 'dest_ip', 'dest_port', 'entropy',\n",
       "       'num_pkts_out', 'num_pkts_in', 'proto', 'src_ip', 'src_port',\n",
       "       'total_entropy', 'label', 'duration'],\n",
       "      dtype='object')"
      ]
     },
     "execution_count": 35,
     "metadata": {},
     "output_type": "execute_result"
    }
   ],
   "source": [
    "train, test = train_test_split(df_equal, test_size=0.2)\n",
    "# display columns\n",
    "train.columns"
   ]
  },
  {
   "cell_type": "code",
   "execution_count": 36,
   "id": "ffa13f03",
   "metadata": {},
   "outputs": [
    {
     "name": "stdout",
     "output_type": "stream",
     "text": [
      "<class 'pandas.core.frame.DataFrame'>\n",
      "Int64Index: 480000 entries, 644999 to 81409\n",
      "Data columns (total 14 columns):\n",
      " #   Column         Non-Null Count   Dtype  \n",
      "---  ------         --------------   -----  \n",
      " 0   avg_ipt        480000 non-null  float64\n",
      " 1   bytes_in       480000 non-null  int64  \n",
      " 2   bytes_out      480000 non-null  int64  \n",
      " 3   dest_ip        480000 non-null  int64  \n",
      " 4   dest_port      480000 non-null  float64\n",
      " 5   entropy        480000 non-null  float64\n",
      " 6   num_pkts_out   480000 non-null  int64  \n",
      " 7   num_pkts_in    480000 non-null  int64  \n",
      " 8   proto          480000 non-null  int64  \n",
      " 9   src_ip         480000 non-null  int64  \n",
      " 10  src_port       480000 non-null  float64\n",
      " 11  total_entropy  480000 non-null  float64\n",
      " 12  label          480000 non-null  int64  \n",
      " 13  duration       480000 non-null  float64\n",
      "dtypes: float64(6), int64(8)\n",
      "memory usage: 54.9 MB\n"
     ]
    }
   ],
   "source": [
    "train.info()"
   ]
  },
  {
   "cell_type": "code",
   "execution_count": 37,
   "id": "29ece1d8",
   "metadata": {},
   "outputs": [
    {
     "data": {
      "text/html": [
       "<div>\n",
       "<style scoped>\n",
       "    .dataframe tbody tr th:only-of-type {\n",
       "        vertical-align: middle;\n",
       "    }\n",
       "\n",
       "    .dataframe tbody tr th {\n",
       "        vertical-align: top;\n",
       "    }\n",
       "\n",
       "    .dataframe thead th {\n",
       "        text-align: right;\n",
       "    }\n",
       "</style>\n",
       "<table border=\"1\" class=\"dataframe\">\n",
       "  <thead>\n",
       "    <tr style=\"text-align: right;\">\n",
       "      <th></th>\n",
       "      <th>avg_ipt</th>\n",
       "      <th>bytes_in</th>\n",
       "      <th>bytes_out</th>\n",
       "      <th>dest_ip</th>\n",
       "      <th>dest_port</th>\n",
       "      <th>entropy</th>\n",
       "      <th>num_pkts_out</th>\n",
       "      <th>num_pkts_in</th>\n",
       "      <th>proto</th>\n",
       "      <th>src_ip</th>\n",
       "      <th>src_port</th>\n",
       "      <th>total_entropy</th>\n",
       "      <th>label</th>\n",
       "      <th>duration</th>\n",
       "    </tr>\n",
       "  </thead>\n",
       "  <tbody>\n",
       "    <tr>\n",
       "      <th>644999</th>\n",
       "      <td>879.000000</td>\n",
       "      <td>270</td>\n",
       "      <td>191</td>\n",
       "      <td>786</td>\n",
       "      <td>445.0</td>\n",
       "      <td>4.561944</td>\n",
       "      <td>7</td>\n",
       "      <td>9</td>\n",
       "      <td>6</td>\n",
       "      <td>786</td>\n",
       "      <td>21070.0</td>\n",
       "      <td>2103.05640</td>\n",
       "      <td>1</td>\n",
       "      <td>3.884374</td>\n",
       "    </tr>\n",
       "    <tr>\n",
       "      <th>306341</th>\n",
       "      <td>0.000000</td>\n",
       "      <td>0</td>\n",
       "      <td>14480</td>\n",
       "      <td>786</td>\n",
       "      <td>9200.0</td>\n",
       "      <td>1.833521</td>\n",
       "      <td>10</td>\n",
       "      <td>0</td>\n",
       "      <td>6</td>\n",
       "      <td>786</td>\n",
       "      <td>40304.0</td>\n",
       "      <td>26549.38000</td>\n",
       "      <td>0</td>\n",
       "      <td>0.000125</td>\n",
       "    </tr>\n",
       "    <tr>\n",
       "      <th>7837</th>\n",
       "      <td>0.000000</td>\n",
       "      <td>0</td>\n",
       "      <td>0</td>\n",
       "      <td>786</td>\n",
       "      <td>60880.0</td>\n",
       "      <td>0.000000</td>\n",
       "      <td>1</td>\n",
       "      <td>0</td>\n",
       "      <td>6</td>\n",
       "      <td>49453</td>\n",
       "      <td>43221.0</td>\n",
       "      <td>0.00000</td>\n",
       "      <td>1</td>\n",
       "      <td>0.000000</td>\n",
       "    </tr>\n",
       "    <tr>\n",
       "      <th>158087</th>\n",
       "      <td>0.000000</td>\n",
       "      <td>0</td>\n",
       "      <td>419</td>\n",
       "      <td>786</td>\n",
       "      <td>39174.0</td>\n",
       "      <td>7.154624</td>\n",
       "      <td>2</td>\n",
       "      <td>0</td>\n",
       "      <td>6</td>\n",
       "      <td>786</td>\n",
       "      <td>9200.0</td>\n",
       "      <td>2997.78740</td>\n",
       "      <td>0</td>\n",
       "      <td>0.015633</td>\n",
       "    </tr>\n",
       "    <tr>\n",
       "      <th>283377</th>\n",
       "      <td>0.000000</td>\n",
       "      <td>0</td>\n",
       "      <td>0</td>\n",
       "      <td>786</td>\n",
       "      <td>445.0</td>\n",
       "      <td>0.000000</td>\n",
       "      <td>1</td>\n",
       "      <td>0</td>\n",
       "      <td>6</td>\n",
       "      <td>786</td>\n",
       "      <td>50226.0</td>\n",
       "      <td>0.00000</td>\n",
       "      <td>1</td>\n",
       "      <td>0.000000</td>\n",
       "    </tr>\n",
       "    <tr>\n",
       "      <th>...</th>\n",
       "      <td>...</td>\n",
       "      <td>...</td>\n",
       "      <td>...</td>\n",
       "      <td>...</td>\n",
       "      <td>...</td>\n",
       "      <td>...</td>\n",
       "      <td>...</td>\n",
       "      <td>...</td>\n",
       "      <td>...</td>\n",
       "      <td>...</td>\n",
       "      <td>...</td>\n",
       "      <td>...</td>\n",
       "      <td>...</td>\n",
       "      <td>...</td>\n",
       "    </tr>\n",
       "    <tr>\n",
       "      <th>656502</th>\n",
       "      <td>0.000000</td>\n",
       "      <td>0</td>\n",
       "      <td>0</td>\n",
       "      <td>786</td>\n",
       "      <td>445.0</td>\n",
       "      <td>0.000000</td>\n",
       "      <td>1</td>\n",
       "      <td>1</td>\n",
       "      <td>6</td>\n",
       "      <td>786</td>\n",
       "      <td>55257.0</td>\n",
       "      <td>0.00000</td>\n",
       "      <td>1</td>\n",
       "      <td>0.000955</td>\n",
       "    </tr>\n",
       "    <tr>\n",
       "      <th>70052</th>\n",
       "      <td>9.500000</td>\n",
       "      <td>343</td>\n",
       "      <td>8194</td>\n",
       "      <td>786</td>\n",
       "      <td>9200.0</td>\n",
       "      <td>3.148263</td>\n",
       "      <td>4</td>\n",
       "      <td>2</td>\n",
       "      <td>6</td>\n",
       "      <td>786</td>\n",
       "      <td>57678.0</td>\n",
       "      <td>26876.72500</td>\n",
       "      <td>0</td>\n",
       "      <td>0.038953</td>\n",
       "    </tr>\n",
       "    <tr>\n",
       "      <th>32489</th>\n",
       "      <td>4289.142857</td>\n",
       "      <td>0</td>\n",
       "      <td>224</td>\n",
       "      <td>15169</td>\n",
       "      <td>53.0</td>\n",
       "      <td>3.326140</td>\n",
       "      <td>7</td>\n",
       "      <td>0</td>\n",
       "      <td>17</td>\n",
       "      <td>786</td>\n",
       "      <td>59099.0</td>\n",
       "      <td>745.05536</td>\n",
       "      <td>0</td>\n",
       "      <td>30.025380</td>\n",
       "    </tr>\n",
       "    <tr>\n",
       "      <th>661345</th>\n",
       "      <td>143.500000</td>\n",
       "      <td>12</td>\n",
       "      <td>12</td>\n",
       "      <td>786</td>\n",
       "      <td>5900.0</td>\n",
       "      <td>2.886842</td>\n",
       "      <td>5</td>\n",
       "      <td>5</td>\n",
       "      <td>6</td>\n",
       "      <td>786</td>\n",
       "      <td>58120.0</td>\n",
       "      <td>69.28421</td>\n",
       "      <td>1</td>\n",
       "      <td>0.432022</td>\n",
       "    </tr>\n",
       "    <tr>\n",
       "      <th>81409</th>\n",
       "      <td>0.000000</td>\n",
       "      <td>0</td>\n",
       "      <td>0</td>\n",
       "      <td>786</td>\n",
       "      <td>16135.0</td>\n",
       "      <td>0.000000</td>\n",
       "      <td>1</td>\n",
       "      <td>1</td>\n",
       "      <td>6</td>\n",
       "      <td>49453</td>\n",
       "      <td>54929.0</td>\n",
       "      <td>0.00000</td>\n",
       "      <td>1</td>\n",
       "      <td>0.000000</td>\n",
       "    </tr>\n",
       "  </tbody>\n",
       "</table>\n",
       "<p>480000 rows × 14 columns</p>\n",
       "</div>"
      ],
      "text/plain": [
       "            avg_ipt  bytes_in  bytes_out  dest_ip  dest_port   entropy  \\\n",
       "644999   879.000000       270        191      786      445.0  4.561944   \n",
       "306341     0.000000         0      14480      786     9200.0  1.833521   \n",
       "7837       0.000000         0          0      786    60880.0  0.000000   \n",
       "158087     0.000000         0        419      786    39174.0  7.154624   \n",
       "283377     0.000000         0          0      786      445.0  0.000000   \n",
       "...             ...       ...        ...      ...        ...       ...   \n",
       "656502     0.000000         0          0      786      445.0  0.000000   \n",
       "70052      9.500000       343       8194      786     9200.0  3.148263   \n",
       "32489   4289.142857         0        224    15169       53.0  3.326140   \n",
       "661345   143.500000        12         12      786     5900.0  2.886842   \n",
       "81409      0.000000         0          0      786    16135.0  0.000000   \n",
       "\n",
       "        num_pkts_out  num_pkts_in  proto  src_ip  src_port  total_entropy  \\\n",
       "644999             7            9      6     786   21070.0     2103.05640   \n",
       "306341            10            0      6     786   40304.0    26549.38000   \n",
       "7837               1            0      6   49453   43221.0        0.00000   \n",
       "158087             2            0      6     786    9200.0     2997.78740   \n",
       "283377             1            0      6     786   50226.0        0.00000   \n",
       "...              ...          ...    ...     ...       ...            ...   \n",
       "656502             1            1      6     786   55257.0        0.00000   \n",
       "70052              4            2      6     786   57678.0    26876.72500   \n",
       "32489              7            0     17     786   59099.0      745.05536   \n",
       "661345             5            5      6     786   58120.0       69.28421   \n",
       "81409              1            1      6   49453   54929.0        0.00000   \n",
       "\n",
       "        label   duration  \n",
       "644999      1   3.884374  \n",
       "306341      0   0.000125  \n",
       "7837        1   0.000000  \n",
       "158087      0   0.015633  \n",
       "283377      1   0.000000  \n",
       "...       ...        ...  \n",
       "656502      1   0.000955  \n",
       "70052       0   0.038953  \n",
       "32489       0  30.025380  \n",
       "661345      1   0.432022  \n",
       "81409       1   0.000000  \n",
       "\n",
       "[480000 rows x 14 columns]"
      ]
     },
     "execution_count": 37,
     "metadata": {},
     "output_type": "execute_result"
    }
   ],
   "source": [
    "train"
   ]
  },
  {
   "cell_type": "code",
   "execution_count": 38,
   "id": "dcfee4ce",
   "metadata": {},
   "outputs": [
    {
     "data": {
      "text/html": [
       "<div>\n",
       "<style scoped>\n",
       "    .dataframe tbody tr th:only-of-type {\n",
       "        vertical-align: middle;\n",
       "    }\n",
       "\n",
       "    .dataframe tbody tr th {\n",
       "        vertical-align: top;\n",
       "    }\n",
       "\n",
       "    .dataframe thead th {\n",
       "        text-align: right;\n",
       "    }\n",
       "</style>\n",
       "<table border=\"1\" class=\"dataframe\">\n",
       "  <thead>\n",
       "    <tr style=\"text-align: right;\">\n",
       "      <th></th>\n",
       "      <th>avg_ipt</th>\n",
       "      <th>bytes_in</th>\n",
       "      <th>bytes_out</th>\n",
       "      <th>dest_ip</th>\n",
       "      <th>dest_port</th>\n",
       "      <th>entropy</th>\n",
       "      <th>num_pkts_out</th>\n",
       "      <th>num_pkts_in</th>\n",
       "      <th>proto</th>\n",
       "      <th>src_ip</th>\n",
       "      <th>src_port</th>\n",
       "      <th>total_entropy</th>\n",
       "      <th>label</th>\n",
       "      <th>duration</th>\n",
       "    </tr>\n",
       "  </thead>\n",
       "  <tbody>\n",
       "    <tr>\n",
       "      <th>31442</th>\n",
       "      <td>493.793651</td>\n",
       "      <td>651</td>\n",
       "      <td>15264</td>\n",
       "      <td>786</td>\n",
       "      <td>9300.0</td>\n",
       "      <td>2.187267</td>\n",
       "      <td>63</td>\n",
       "      <td>33</td>\n",
       "      <td>6</td>\n",
       "      <td>786</td>\n",
       "      <td>56998.0</td>\n",
       "      <td>34810.3600</td>\n",
       "      <td>0</td>\n",
       "      <td>31.140226</td>\n",
       "    </tr>\n",
       "    <tr>\n",
       "      <th>292846</th>\n",
       "      <td>0.000000</td>\n",
       "      <td>0</td>\n",
       "      <td>2896</td>\n",
       "      <td>786</td>\n",
       "      <td>9200.0</td>\n",
       "      <td>4.881753</td>\n",
       "      <td>2</td>\n",
       "      <td>0</td>\n",
       "      <td>6</td>\n",
       "      <td>786</td>\n",
       "      <td>40304.0</td>\n",
       "      <td>14137.5580</td>\n",
       "      <td>0</td>\n",
       "      <td>0.000004</td>\n",
       "    </tr>\n",
       "    <tr>\n",
       "      <th>98018</th>\n",
       "      <td>0.086957</td>\n",
       "      <td>59759</td>\n",
       "      <td>12254</td>\n",
       "      <td>786</td>\n",
       "      <td>9300.0</td>\n",
       "      <td>1.028153</td>\n",
       "      <td>34</td>\n",
       "      <td>15</td>\n",
       "      <td>6</td>\n",
       "      <td>786</td>\n",
       "      <td>49108.0</td>\n",
       "      <td>74040.3700</td>\n",
       "      <td>0</td>\n",
       "      <td>0.004075</td>\n",
       "    </tr>\n",
       "    <tr>\n",
       "      <th>248202</th>\n",
       "      <td>0.000000</td>\n",
       "      <td>0</td>\n",
       "      <td>13032</td>\n",
       "      <td>786</td>\n",
       "      <td>9200.0</td>\n",
       "      <td>2.071618</td>\n",
       "      <td>9</td>\n",
       "      <td>1</td>\n",
       "      <td>6</td>\n",
       "      <td>786</td>\n",
       "      <td>42436.0</td>\n",
       "      <td>26997.3200</td>\n",
       "      <td>0</td>\n",
       "      <td>0.000321</td>\n",
       "    </tr>\n",
       "    <tr>\n",
       "      <th>113052</th>\n",
       "      <td>51.666667</td>\n",
       "      <td>89</td>\n",
       "      <td>191</td>\n",
       "      <td>786</td>\n",
       "      <td>445.0</td>\n",
       "      <td>4.100381</td>\n",
       "      <td>4</td>\n",
       "      <td>3</td>\n",
       "      <td>6</td>\n",
       "      <td>786</td>\n",
       "      <td>58415.0</td>\n",
       "      <td>1148.1067</td>\n",
       "      <td>1</td>\n",
       "      <td>0.156483</td>\n",
       "    </tr>\n",
       "    <tr>\n",
       "      <th>...</th>\n",
       "      <td>...</td>\n",
       "      <td>...</td>\n",
       "      <td>...</td>\n",
       "      <td>...</td>\n",
       "      <td>...</td>\n",
       "      <td>...</td>\n",
       "      <td>...</td>\n",
       "      <td>...</td>\n",
       "      <td>...</td>\n",
       "      <td>...</td>\n",
       "      <td>...</td>\n",
       "      <td>...</td>\n",
       "      <td>...</td>\n",
       "      <td>...</td>\n",
       "    </tr>\n",
       "    <tr>\n",
       "      <th>609666</th>\n",
       "      <td>6.000000</td>\n",
       "      <td>181</td>\n",
       "      <td>140</td>\n",
       "      <td>786</td>\n",
       "      <td>445.0</td>\n",
       "      <td>4.615119</td>\n",
       "      <td>1</td>\n",
       "      <td>2</td>\n",
       "      <td>6</td>\n",
       "      <td>786</td>\n",
       "      <td>56167.0</td>\n",
       "      <td>1481.4530</td>\n",
       "      <td>1</td>\n",
       "      <td>0.012574</td>\n",
       "    </tr>\n",
       "    <tr>\n",
       "      <th>18838</th>\n",
       "      <td>128.250000</td>\n",
       "      <td>270</td>\n",
       "      <td>191</td>\n",
       "      <td>786</td>\n",
       "      <td>445.0</td>\n",
       "      <td>4.580686</td>\n",
       "      <td>6</td>\n",
       "      <td>6</td>\n",
       "      <td>6</td>\n",
       "      <td>7552</td>\n",
       "      <td>61689.0</td>\n",
       "      <td>2111.6960</td>\n",
       "      <td>1</td>\n",
       "      <td>1.014573</td>\n",
       "    </tr>\n",
       "    <tr>\n",
       "      <th>284973</th>\n",
       "      <td>0.000000</td>\n",
       "      <td>0</td>\n",
       "      <td>10136</td>\n",
       "      <td>786</td>\n",
       "      <td>9200.0</td>\n",
       "      <td>2.514711</td>\n",
       "      <td>7</td>\n",
       "      <td>0</td>\n",
       "      <td>6</td>\n",
       "      <td>786</td>\n",
       "      <td>39166.0</td>\n",
       "      <td>25489.1070</td>\n",
       "      <td>0</td>\n",
       "      <td>0.000077</td>\n",
       "    </tr>\n",
       "    <tr>\n",
       "      <th>671206</th>\n",
       "      <td>42.500000</td>\n",
       "      <td>270</td>\n",
       "      <td>191</td>\n",
       "      <td>786</td>\n",
       "      <td>445.0</td>\n",
       "      <td>4.564953</td>\n",
       "      <td>6</td>\n",
       "      <td>6</td>\n",
       "      <td>6</td>\n",
       "      <td>786</td>\n",
       "      <td>57177.0</td>\n",
       "      <td>2104.4434</td>\n",
       "      <td>1</td>\n",
       "      <td>0.307244</td>\n",
       "    </tr>\n",
       "    <tr>\n",
       "      <th>3573</th>\n",
       "      <td>0.000000</td>\n",
       "      <td>0</td>\n",
       "      <td>0</td>\n",
       "      <td>786</td>\n",
       "      <td>13157.0</td>\n",
       "      <td>0.000000</td>\n",
       "      <td>3</td>\n",
       "      <td>1</td>\n",
       "      <td>6</td>\n",
       "      <td>49453</td>\n",
       "      <td>41179.0</td>\n",
       "      <td>0.0000</td>\n",
       "      <td>1</td>\n",
       "      <td>0.067885</td>\n",
       "    </tr>\n",
       "  </tbody>\n",
       "</table>\n",
       "<p>120000 rows × 14 columns</p>\n",
       "</div>"
      ],
      "text/plain": [
       "           avg_ipt  bytes_in  bytes_out  dest_ip  dest_port   entropy  \\\n",
       "31442   493.793651       651      15264      786     9300.0  2.187267   \n",
       "292846    0.000000         0       2896      786     9200.0  4.881753   \n",
       "98018     0.086957     59759      12254      786     9300.0  1.028153   \n",
       "248202    0.000000         0      13032      786     9200.0  2.071618   \n",
       "113052   51.666667        89        191      786      445.0  4.100381   \n",
       "...            ...       ...        ...      ...        ...       ...   \n",
       "609666    6.000000       181        140      786      445.0  4.615119   \n",
       "18838   128.250000       270        191      786      445.0  4.580686   \n",
       "284973    0.000000         0      10136      786     9200.0  2.514711   \n",
       "671206   42.500000       270        191      786      445.0  4.564953   \n",
       "3573      0.000000         0          0      786    13157.0  0.000000   \n",
       "\n",
       "        num_pkts_out  num_pkts_in  proto  src_ip  src_port  total_entropy  \\\n",
       "31442             63           33      6     786   56998.0     34810.3600   \n",
       "292846             2            0      6     786   40304.0     14137.5580   \n",
       "98018             34           15      6     786   49108.0     74040.3700   \n",
       "248202             9            1      6     786   42436.0     26997.3200   \n",
       "113052             4            3      6     786   58415.0      1148.1067   \n",
       "...              ...          ...    ...     ...       ...            ...   \n",
       "609666             1            2      6     786   56167.0      1481.4530   \n",
       "18838              6            6      6    7552   61689.0      2111.6960   \n",
       "284973             7            0      6     786   39166.0     25489.1070   \n",
       "671206             6            6      6     786   57177.0      2104.4434   \n",
       "3573               3            1      6   49453   41179.0         0.0000   \n",
       "\n",
       "        label   duration  \n",
       "31442       0  31.140226  \n",
       "292846      0   0.000004  \n",
       "98018       0   0.004075  \n",
       "248202      0   0.000321  \n",
       "113052      1   0.156483  \n",
       "...       ...        ...  \n",
       "609666      1   0.012574  \n",
       "18838       1   1.014573  \n",
       "284973      0   0.000077  \n",
       "671206      1   0.307244  \n",
       "3573        1   0.067885  \n",
       "\n",
       "[120000 rows x 14 columns]"
      ]
     },
     "execution_count": 38,
     "metadata": {},
     "output_type": "execute_result"
    }
   ],
   "source": [
    "test"
   ]
  },
  {
   "cell_type": "code",
   "execution_count": 39,
   "id": "fc6ac339",
   "metadata": {},
   "outputs": [
    {
     "name": "stdout",
     "output_type": "stream",
     "text": [
      "Full dataset:\n",
      "\n",
      "Benign: 300000\n",
      "Malicious: 300000\n",
      "---------------\n",
      "Training set:\n",
      "\n",
      "Benign: 240193\n",
      "Malicious: 239807\n",
      "---------------\n",
      "Test set:\n",
      "\n",
      "Benign: 59807\n",
      "Malicious: 60193\n"
     ]
    }
   ],
   "source": [
    "print(\"Full dataset:\\n\")\n",
    "print(\"Benign: \" + str(df_equal[\"label\"].value_counts()[[0]].sum()))\n",
    "print(\"Malicious: \" + str(df_equal[\"label\"].value_counts()[[1]].sum()))\n",
    "print(\"---------------\")\n",
    "\n",
    "print(\"Training set:\\n\")\n",
    "print(\"Benign: \" + str(train[\"label\"].value_counts()[[0]].sum()))\n",
    "print(\"Malicious: \" + str(train[\"label\"].value_counts()[[1]].sum()))\n",
    "print(\"---------------\")\n",
    "\n",
    "print(\"Test set:\\n\")\n",
    "print(\"Benign: \" + str(test[\"label\"].value_counts()[[0]].sum()))\n",
    "print(\"Malicious: \" + str(test[\"label\"].value_counts()[[1]].sum()))"
   ]
  },
  {
   "cell_type": "code",
   "execution_count": 40,
   "id": "c5bd731b",
   "metadata": {},
   "outputs": [],
   "source": [
    "y_train = np.array(train.pop(\"label\"))# pop removes \"Label\" from the dataframe\n",
    "X_train = train.values"
   ]
  },
  {
   "cell_type": "code",
   "execution_count": 41,
   "id": "49bfdfc2",
   "metadata": {},
   "outputs": [],
   "source": [
    "y_test = np.array(test.pop(\"label\")) # pop removes \"Label\" from the dataframe\n",
    "X_test = test.values"
   ]
  },
  {
   "cell_type": "code",
   "execution_count": 39,
   "id": "c7e926c0",
   "metadata": {},
   "outputs": [
    {
     "name": "stdout",
     "output_type": "stream",
     "text": [
      "Test accuracy: 99.98916667%\n"
     ]
    }
   ],
   "source": [
    "rforest = RandomForestClassifier()\n",
    "rforest.fit(X_train, y_train)\n",
    "rforest_pred = rforest.predict(X_test)\n",
    "rforest_acc = accuracy_score(rforest_pred, y_test)\n",
    "print(\"Test accuracy: {:.8f}%\".format(rforest_acc*100))"
   ]
  },
  {
   "cell_type": "code",
   "execution_count": 40,
   "id": "0856b304",
   "metadata": {},
   "outputs": [
    {
     "name": "stdout",
     "output_type": "stream",
     "text": [
      "              precision    recall  f1-score   support\n",
      "\n",
      "           0       1.00      1.00      1.00     59867\n",
      "           1       1.00      1.00      1.00     60133\n",
      "\n",
      "    accuracy                           1.00    120000\n",
      "   macro avg       1.00      1.00      1.00    120000\n",
      "weighted avg       1.00      1.00      1.00    120000\n",
      "\n"
     ]
    }
   ],
   "source": [
    "print(classification_report(y_test, rforest_pred))"
   ]
  },
  {
   "cell_type": "code",
   "execution_count": 41,
   "id": "4ead6b05",
   "metadata": {},
   "outputs": [
    {
     "name": "stdout",
     "output_type": "stream",
     "text": [
      "TN:  59863\n",
      "FN:  9\n",
      "TP:  60124\n",
      "FP:  4\n"
     ]
    },
    {
     "data": {
      "image/png": "[encoded data removed]",
      "text/plain": [
       "<Figure size 640x480 with 2 Axes>"
      ]
     },
     "metadata": {},
     "output_type": "display_data"
    }
   ],
   "source": [
    "\n",
    "style.use('classic')\n",
    "cm = confusion_matrix(y_test, rforest_pred, labels=rforest.classes_)\n",
    "disp = ConfusionMatrixDisplay(confusion_matrix= cm, display_labels=rforest.classes_)\n",
    "disp.plot()\n",
    "print(\"TN: \", cm[0][0])\n",
    "print(\"FN: \", cm[1][0])\n",
    "print(\"TP: \", cm[1][1])\n",
    "print(\"FP: \", cm[0][1])"
   ]
  },
  {
   "cell_type": "code",
   "execution_count": 50,
   "id": "1a771db1",
   "metadata": {},
   "outputs": [
    {
     "name": "stdout",
     "output_type": "stream",
     "text": [
      "Test accuracy: 99.98000000%\n"
     ]
    }
   ],
   "source": [
    "dtree = DecisionTreeClassifier()\n",
    "dtree.fit(X_train, y_train)\n",
    "dtree_pred = dtree.predict(X_test)\n",
    "dtree_acc = accuracy_score(dtree_pred, y_test)\n",
    "print(\"Test accuracy: {:.8f}%\".format(dtree_acc*100))"
   ]
  },
  {
   "cell_type": "code",
   "execution_count": 51,
   "id": "0212950f",
   "metadata": {},
   "outputs": [
    {
     "name": "stdout",
     "output_type": "stream",
     "text": [
      "              precision    recall  f1-score   support\n",
      "\n",
      "           0       1.00      1.00      1.00     59867\n",
      "           1       1.00      1.00      1.00     60133\n",
      "\n",
      "    accuracy                           1.00    120000\n",
      "   macro avg       1.00      1.00      1.00    120000\n",
      "weighted avg       1.00      1.00      1.00    120000\n",
      "\n"
     ]
    }
   ],
   "source": [
    "print(classification_report(y_test, dtree_pred))"
   ]
  },
  {
   "cell_type": "code",
   "execution_count": 52,
   "id": "8005bc70",
   "metadata": {},
   "outputs": [
    {
     "name": "stdout",
     "output_type": "stream",
     "text": [
      "TN:  59852\n",
      "FN:  9\n",
      "TP:  60124\n",
      "FP:  15\n"
     ]
    },
    {
     "data": {
      "image/png": "[encoded data removed]",
      "text/plain": [
       "<Figure size 640x480 with 2 Axes>"
      ]
     },
     "metadata": {},
     "output_type": "display_data"
    }
   ],
   "source": [
    "style.use('classic')\n",
    "cm = confusion_matrix(y_test, dtree_pred, labels=dtree.classes_)\n",
    "disp = ConfusionMatrixDisplay(confusion_matrix= cm, display_labels=dtree.classes_)\n",
    "disp.plot()\n",
    "print(\"TN: \", cm[0][0])\n",
    "print(\"FN: \", cm[1][0])\n",
    "print(\"TP: \", cm[1][1])\n",
    "print(\"FP: \", cm[0][1])"
   ]
  },
  {
   "cell_type": "code",
   "execution_count": 53,
   "id": "3fd6a064",
   "metadata": {},
   "outputs": [],
   "source": [
    "from sklearn.neighbors import KNeighborsClassifier\n",
    "knn = KNeighborsClassifier()\n",
    "knn.fit(X_train, y_train)    \n",
    "predicted = knn.predict(X_test)"
   ]
  },
  {
   "cell_type": "code",
   "execution_count": 54,
   "id": "f0822605",
   "metadata": {},
   "outputs": [
    {
     "name": "stdout",
     "output_type": "stream",
     "text": [
      "Test accuracy: 99.93083333%\n"
     ]
    }
   ],
   "source": [
    "knn_acc = accuracy_score(predicted, y_test)\n",
    "print(\"Test accuracy: {:.8f}%\".format(knn_acc*100))"
   ]
  },
  {
   "cell_type": "code",
   "execution_count": 55,
   "id": "6ee61aa5",
   "metadata": {
    "scrolled": true
   },
   "outputs": [
    {
     "name": "stdout",
     "output_type": "stream",
     "text": [
      "TN:  59860\n",
      "FN:  76\n",
      "TP:  60057\n",
      "FP:  7\n"
     ]
    },
    {
     "data": {
      "image/png": "[encoded data removed]",
      "text/plain": [
       "<Figure size 640x480 with 2 Axes>"
      ]
     },
     "metadata": {},
     "output_type": "display_data"
    }
   ],
   "source": [
    "style.use('classic')\n",
    "cm = confusion_matrix(y_test, predicted)\n",
    "disp = ConfusionMatrixDisplay(confusion_matrix= cm)\n",
    "disp.plot()\n",
    "print(\"TN: \", cm[0][0])\n",
    "print(\"FN: \", cm[1][0])\n",
    "print(\"TP: \", cm[1][1])\n",
    "print(\"FP: \", cm[0][1])"
   ]
  },
  {
   "cell_type": "code",
   "execution_count": 44,
   "id": "fb81ac89",
   "metadata": {},
   "outputs": [
    {
     "name": "stdout",
     "output_type": "stream",
     "text": [
      "Accuracy of train dataset: 91.6227%\n",
      "Accuracy of test dataset: 91.6683%\n"
     ]
    }
   ],
   "source": [
    "lr = LogisticRegression(random_state=0)\n",
    "lr.fit(X_train, y_train)\n",
    "lr_train_accuracy=lr.score(X_train,y_train)\n",
    "lr_test_accuracy=lr.score(X_test,y_test)\n",
    "print(\"Accuracy of train dataset: {:.4f}%\".format(lr_train_accuracy*100))\n",
    "print(\"Accuracy of test dataset: {:.4f}%\".format(lr_test_accuracy*100))"
   ]
  },
  {
   "cell_type": "code",
   "execution_count": 45,
   "id": "9f3826d2",
   "metadata": {},
   "outputs": [
    {
     "name": "stdout",
     "output_type": "stream",
     "text": [
      "              precision    recall  f1-score   support\n",
      "\n",
      "           0       0.93      0.90      0.92     59807\n",
      "           1       0.91      0.93      0.92     60193\n",
      "\n",
      "    accuracy                           0.92    120000\n",
      "   macro avg       0.92      0.92      0.92    120000\n",
      "weighted avg       0.92      0.92      0.92    120000\n",
      "\n"
     ]
    }
   ],
   "source": [
    "lr_pred = lr.predict(X_test)\n",
    "print(classification_report(y_test, lr_pred))"
   ]
  },
  {
   "cell_type": "code",
   "execution_count": 48,
   "id": "d77a59a6",
   "metadata": {},
   "outputs": [
    {
     "name": "stdout",
     "output_type": "stream",
     "text": [
      "TN:  53977\n",
      "FN:  4168\n",
      "TP:  56025\n",
      "FP:  5830\n"
     ]
    },
    {
     "data": {
      "image/png": "[encoded data removed]",
      "text/plain": [
       "<Figure size 432x288 with 2 Axes>"
      ]
     },
     "metadata": {
      "needs_background": "light"
     },
     "output_type": "display_data"
    }
   ],
   "source": [
    "style.use('classic')\n",
    "cm = confusion_matrix(y_test, lr_pred)\n",
    "disp = ConfusionMatrixDisplay(confusion_matrix= cm)\n",
    "disp.plot()\n",
    "print(\"TN: \", cm[0][0])\n",
    "print(\"FN: \", cm[1][0])\n",
    "print(\"TP: \", cm[1][1])\n",
    "print(\"FP: \", cm[0][1])"
   ]
  },
  {
   "cell_type": "code",
   "execution_count": 50,
   "id": "65e08d5f",
   "metadata": {},
   "outputs": [],
   "source": [
    "import tensorflow as tf"
   ]
  },
  {
   "cell_type": "code",
   "execution_count": 51,
   "id": "280a1067",
   "metadata": {},
   "outputs": [],
   "source": [
    "ann = tf.keras.models.Sequential()"
   ]
  },
  {
   "cell_type": "code",
   "execution_count": 52,
   "id": "28e34e30",
   "metadata": {},
   "outputs": [],
   "source": [
    "ann.add(tf.keras.layers.Dense(units=6,activation='relu'))"
   ]
  },
  {
   "cell_type": "code",
   "execution_count": 53,
   "id": "158335da",
   "metadata": {},
   "outputs": [],
   "source": [
    "ann.add(tf.keras.layers.Dense(units=6,activation='relu'))"
   ]
  },
  {
   "cell_type": "code",
   "execution_count": 54,
   "id": "a61358cf",
   "metadata": {},
   "outputs": [],
   "source": [
    "ann.add(tf.keras.layers.Dense(units=6,activation='relu'))"
   ]
  },
  {
   "cell_type": "code",
   "execution_count": 55,
   "id": "3d5aab36",
   "metadata": {},
   "outputs": [],
   "source": [
    "ann.add(tf.keras.layers.Dense(units=1,activation='sigmoid'))"
   ]
  },
  {
   "cell_type": "code",
   "execution_count": 57,
   "id": "34920672",
   "metadata": {},
   "outputs": [
    {
     "name": "stdout",
     "output_type": "stream",
     "text": [
      "Epoch 1/100\n",
      "15000/15000 [==============================] - 43s 3ms/step - loss: 480.4532 - accuracy: 0.8529\n",
      "Epoch 2/100\n",
      "15000/15000 [==============================] - 43s 3ms/step - loss: 0.2720 - accuracy: 0.9049\n",
      "Epoch 3/100\n",
      "15000/15000 [==============================] - 45s 3ms/step - loss: 0.2386 - accuracy: 0.9204\n",
      "Epoch 4/100\n",
      "15000/15000 [==============================] - 44s 3ms/step - loss: 1.5349 - accuracy: 0.9231\n",
      "Epoch 5/100\n",
      "15000/15000 [==============================] - 43s 3ms/step - loss: 0.1610 - accuracy: 0.9508\n",
      "Epoch 6/100\n",
      "15000/15000 [==============================] - 42s 3ms/step - loss: 0.0997 - accuracy: 0.9787\n",
      "Epoch 7/100\n",
      "15000/15000 [==============================] - 41s 3ms/step - loss: 0.0881 - accuracy: 0.9789\n",
      "Epoch 8/100\n",
      "15000/15000 [==============================] - 43s 3ms/step - loss: 0.1101 - accuracy: 0.9781\n",
      "Epoch 9/100\n",
      "15000/15000 [==============================] - 47s 3ms/step - loss: 0.0865 - accuracy: 0.9799\n",
      "Epoch 10/100\n",
      "15000/15000 [==============================] - 46s 3ms/step - loss: 0.1493 - accuracy: 0.9798\n",
      "Epoch 11/100\n",
      "15000/15000 [==============================] - 46s 3ms/step - loss: 0.0841 - accuracy: 0.9801\n",
      "Epoch 12/100\n",
      "15000/15000 [==============================] - 45s 3ms/step - loss: 0.0836 - accuracy: 0.9804\n",
      "Epoch 13/100\n",
      "15000/15000 [==============================] - 45s 3ms/step - loss: 0.0948 - accuracy: 0.9804\n",
      "Epoch 14/100\n",
      "15000/15000 [==============================] - 46s 3ms/step - loss: 0.0838 - accuracy: 0.9803\n",
      "Epoch 15/100\n",
      "15000/15000 [==============================] - 43s 3ms/step - loss: 0.0839 - accuracy: 0.9802\n",
      "Epoch 16/100\n",
      "15000/15000 [==============================] - 52s 3ms/step - loss: 0.1083 - accuracy: 0.9796\n",
      "Epoch 17/100\n",
      "15000/15000 [==============================] - 47s 3ms/step - loss: 0.0836 - accuracy: 0.9803\n",
      "Epoch 18/100\n",
      "15000/15000 [==============================] - 42s 3ms/step - loss: 0.0841 - accuracy: 0.9802\n",
      "Epoch 19/100\n",
      "15000/15000 [==============================] - 43s 3ms/step - loss: 0.0834 - accuracy: 0.9803\n",
      "Epoch 20/100\n",
      "15000/15000 [==============================] - 47s 3ms/step - loss: 0.0853 - accuracy: 0.9796\n",
      "Epoch 21/100\n",
      "15000/15000 [==============================] - 42s 3ms/step - loss: 0.0836 - accuracy: 0.9806\n",
      "Epoch 22/100\n",
      "15000/15000 [==============================] - 47s 3ms/step - loss: 0.0831 - accuracy: 0.9809\n",
      "Epoch 23/100\n",
      "15000/15000 [==============================] - 40s 3ms/step - loss: 0.0833 - accuracy: 0.9806\n",
      "Epoch 24/100\n",
      "15000/15000 [==============================] - 41s 3ms/step - loss: 0.0826 - accuracy: 0.9808\n",
      "Epoch 25/100\n",
      "15000/15000 [==============================] - 41s 3ms/step - loss: 0.0826 - accuracy: 0.9809\n",
      "Epoch 26/100\n",
      "15000/15000 [==============================] - 41s 3ms/step - loss: 0.0826 - accuracy: 0.9808\n",
      "Epoch 27/100\n",
      "15000/15000 [==============================] - 41s 3ms/step - loss: 0.0815 - accuracy: 0.9811\n",
      "Epoch 28/100\n",
      "15000/15000 [==============================] - 41s 3ms/step - loss: 0.0845 - accuracy: 0.9810\n",
      "Epoch 29/100\n",
      "15000/15000 [==============================] - 41s 3ms/step - loss: 0.0822 - accuracy: 0.9808\n",
      "Epoch 30/100\n",
      "15000/15000 [==============================] - 42s 3ms/step - loss: 0.0820 - accuracy: 0.9810\n",
      "Epoch 31/100\n",
      "15000/15000 [==============================] - 41s 3ms/step - loss: 0.0823 - accuracy: 0.9809\n",
      "Epoch 32/100\n",
      "15000/15000 [==============================] - 45s 3ms/step - loss: 0.0829 - accuracy: 0.9807\n",
      "Epoch 33/100\n",
      "15000/15000 [==============================] - 49s 3ms/step - loss: 0.0842 - accuracy: 0.9808\n",
      "Epoch 34/100\n",
      "15000/15000 [==============================] - 45s 3ms/step - loss: 0.0829 - accuracy: 0.9806\n",
      "Epoch 35/100\n",
      "15000/15000 [==============================] - 42s 3ms/step - loss: 0.0836 - accuracy: 0.9805\n",
      "Epoch 36/100\n",
      "15000/15000 [==============================] - 63s 4ms/step - loss: 0.0815 - accuracy: 0.9811\n",
      "Epoch 37/100\n",
      "15000/15000 [==============================] - 53s 4ms/step - loss: 0.0816 - accuracy: 0.9812\n",
      "Epoch 38/100\n",
      "15000/15000 [==============================] - 50s 3ms/step - loss: 0.0822 - accuracy: 0.9808\n",
      "Epoch 39/100\n",
      "15000/15000 [==============================] - 51s 3ms/step - loss: 0.0818 - accuracy: 0.9811\n",
      "Epoch 40/100\n",
      "15000/15000 [==============================] - 50s 3ms/step - loss: 0.0822 - accuracy: 0.9809\n",
      "Epoch 41/100\n",
      "15000/15000 [==============================] - 49s 3ms/step - loss: 0.0825 - accuracy: 0.9808\n",
      "Epoch 42/100\n",
      "15000/15000 [==============================] - 47s 3ms/step - loss: 0.0819 - accuracy: 0.9811\n",
      "Epoch 43/100\n",
      "15000/15000 [==============================] - 42s 3ms/step - loss: 0.0817 - accuracy: 0.9812\n",
      "Epoch 44/100\n",
      "15000/15000 [==============================] - 45s 3ms/step - loss: 0.0815 - accuracy: 0.9812\n",
      "Epoch 45/100\n",
      "15000/15000 [==============================] - 45s 3ms/step - loss: 0.0815 - accuracy: 0.9813\n",
      "Epoch 46/100\n",
      "15000/15000 [==============================] - 46s 3ms/step - loss: 0.0819 - accuracy: 0.9811\n",
      "Epoch 47/100\n",
      "15000/15000 [==============================] - 57s 4ms/step - loss: 0.0824 - accuracy: 0.9808\n",
      "Epoch 48/100\n",
      "15000/15000 [==============================] - 18s 1ms/step - loss: 0.0817 - accuracy: 0.9811\n",
      "Epoch 49/100\n",
      "15000/15000 [==============================] - 23s 2ms/step - loss: 0.0823 - accuracy: 0.9811\n",
      "Epoch 50/100\n",
      "15000/15000 [==============================] - 20s 1ms/step - loss: 0.0821 - accuracy: 0.9811\n",
      "Epoch 51/100\n",
      "15000/15000 [==============================] - 26s 2ms/step - loss: 0.0819 - accuracy: 0.9811\n",
      "Epoch 52/100\n",
      "15000/15000 [==============================] - 28s 2ms/step - loss: 0.0815 - accuracy: 0.9812\n",
      "Epoch 53/100\n",
      "15000/15000 [==============================] - 34s 2ms/step - loss: 0.0855 - accuracy: 0.9812\n",
      "Epoch 54/100\n",
      "15000/15000 [==============================] - 33s 2ms/step - loss: 0.0819 - accuracy: 0.9811\n",
      "Epoch 55/100\n",
      "15000/15000 [==============================] - 25s 2ms/step - loss: 0.0816 - accuracy: 0.9811\n",
      "Epoch 56/100\n",
      "15000/15000 [==============================] - 27s 2ms/step - loss: 0.0816 - accuracy: 0.9812\n",
      "Epoch 57/100\n",
      "15000/15000 [==============================] - 28s 2ms/step - loss: 0.0818 - accuracy: 0.9810\n",
      "Epoch 58/100\n",
      "15000/15000 [==============================] - 27s 2ms/step - loss: 0.0815 - accuracy: 0.9812\n",
      "Epoch 59/100\n",
      "15000/15000 [==============================] - 28s 2ms/step - loss: 0.0819 - accuracy: 0.9810\n",
      "Epoch 60/100\n",
      "15000/15000 [==============================] - 28s 2ms/step - loss: 0.0870 - accuracy: 0.9812\n",
      "Epoch 61/100\n",
      "15000/15000 [==============================] - 27s 2ms/step - loss: 0.0842 - accuracy: 0.9808\n",
      "Epoch 62/100\n",
      "15000/15000 [==============================] - 28s 2ms/step - loss: 0.0819 - accuracy: 0.9811\n",
      "Epoch 63/100\n",
      "15000/15000 [==============================] - 27s 2ms/step - loss: 0.0812 - accuracy: 0.9813\n",
      "Epoch 64/100\n",
      "15000/15000 [==============================] - 27s 2ms/step - loss: 0.0850 - accuracy: 0.9811\n",
      "Epoch 65/100\n",
      "15000/15000 [==============================] - 26s 2ms/step - loss: 0.0814 - accuracy: 0.9812\n",
      "Epoch 66/100\n",
      "15000/15000 [==============================] - 26s 2ms/step - loss: 0.0816 - accuracy: 0.9811\n",
      "Epoch 67/100\n",
      "15000/15000 [==============================] - 26s 2ms/step - loss: 0.0817 - accuracy: 0.9812\n",
      "Epoch 68/100\n",
      "15000/15000 [==============================] - 24s 2ms/step - loss: 0.0815 - accuracy: 0.9811\n",
      "Epoch 69/100\n",
      "15000/15000 [==============================] - 27s 2ms/step - loss: 0.0824 - accuracy: 0.9809\n",
      "Epoch 70/100\n",
      "15000/15000 [==============================] - 28s 2ms/step - loss: 0.0820 - accuracy: 0.9810\n",
      "Epoch 71/100\n",
      "15000/15000 [==============================] - 27s 2ms/step - loss: 0.0810 - accuracy: 0.9814\n",
      "Epoch 72/100\n",
      "15000/15000 [==============================] - 30s 2ms/step - loss: 0.0819 - accuracy: 0.9810\n",
      "Epoch 73/100\n",
      "15000/15000 [==============================] - 31s 2ms/step - loss: 0.0822 - accuracy: 0.9812\n",
      "Epoch 74/100\n",
      "15000/15000 [==============================] - 29s 2ms/step - loss: 0.0811 - accuracy: 0.9813\n",
      "Epoch 75/100\n",
      "15000/15000 [==============================] - 25s 2ms/step - loss: 0.0816 - accuracy: 0.9811\n",
      "Epoch 76/100\n",
      "15000/15000 [==============================] - 25s 2ms/step - loss: 0.0815 - accuracy: 0.9812\n",
      "Epoch 77/100\n",
      "15000/15000 [==============================] - 24s 2ms/step - loss: 0.0818 - accuracy: 0.9811\n",
      "Epoch 78/100\n",
      "15000/15000 [==============================] - 24s 2ms/step - loss: 0.0817 - accuracy: 0.9811\n",
      "Epoch 79/100\n",
      "15000/15000 [==============================] - 26s 2ms/step - loss: 0.0819 - accuracy: 0.9811\n",
      "Epoch 80/100\n",
      "15000/15000 [==============================] - 27s 2ms/step - loss: 0.0831 - accuracy: 0.9804\n",
      "Epoch 81/100\n",
      "15000/15000 [==============================] - 28s 2ms/step - loss: 0.0833 - accuracy: 0.9811\n",
      "Epoch 82/100\n",
      "15000/15000 [==============================] - 24s 2ms/step - loss: 0.0760 - accuracy: 0.9812\n",
      "Epoch 83/100\n",
      "15000/15000 [==============================] - 25s 2ms/step - loss: 0.0637 - accuracy: 0.9807\n",
      "Epoch 84/100\n",
      "15000/15000 [==============================] - 25s 2ms/step - loss: 0.0610 - accuracy: 0.9812\n",
      "Epoch 85/100\n",
      "15000/15000 [==============================] - 28s 2ms/step - loss: 0.0599 - accuracy: 0.9812\n",
      "Epoch 86/100\n",
      "15000/15000 [==============================] - 26s 2ms/step - loss: 0.0558 - accuracy: 0.9811\n",
      "Epoch 87/100\n",
      "15000/15000 [==============================] - 25s 2ms/step - loss: 0.0576 - accuracy: 0.9804\n",
      "Epoch 88/100\n",
      "15000/15000 [==============================] - 26s 2ms/step - loss: 0.0571 - accuracy: 0.9809\n",
      "Epoch 89/100\n",
      "15000/15000 [==============================] - 28s 2ms/step - loss: 0.0559 - accuracy: 0.9812\n",
      "Epoch 90/100\n",
      "15000/15000 [==============================] - 29s 2ms/step - loss: 0.0560 - accuracy: 0.9807\n",
      "Epoch 91/100\n",
      "15000/15000 [==============================] - 29s 2ms/step - loss: 0.0493 - accuracy: 0.9844\n",
      "Epoch 92/100\n",
      "15000/15000 [==============================] - 30s 2ms/step - loss: 0.0234 - accuracy: 0.9947\n",
      "Epoch 93/100\n",
      "15000/15000 [==============================] - 30s 2ms/step - loss: 0.0173 - accuracy: 0.9962\n",
      "Epoch 94/100\n",
      "15000/15000 [==============================] - 27s 2ms/step - loss: 0.0167 - accuracy: 0.9962\n",
      "Epoch 95/100\n",
      "15000/15000 [==============================] - 26s 2ms/step - loss: 0.0161 - accuracy: 0.9963\n",
      "Epoch 96/100\n",
      "15000/15000 [==============================] - 29s 2ms/step - loss: 0.0154 - accuracy: 0.9966\n",
      "Epoch 97/100\n",
      "15000/15000 [==============================] - 27s 2ms/step - loss: 0.0146 - accuracy: 0.9968\n",
      "Epoch 98/100\n",
      "15000/15000 [==============================] - 24s 2ms/step - loss: 0.0147 - accuracy: 0.9967\n",
      "Epoch 99/100\n",
      "15000/15000 [==============================] - 27s 2ms/step - loss: 0.0151 - accuracy: 0.9967\n",
      "Epoch 100/100\n",
      "15000/15000 [==============================] - 27s 2ms/step - loss: 0.0144 - accuracy: 0.9967\n"
     ]
    },
    {
     "data": {
      "text/plain": [
       "<keras.src.callbacks.History at 0x1be853aa580>"
      ]
     },
     "execution_count": 57,
     "metadata": {},
     "output_type": "execute_result"
    }
   ],
   "source": [
    "ann.compile(optimizer = 'adam', loss = 'binary_crossentropy', metrics = ['accuracy'])\n",
    "ann.fit(X_train, y_train, batch_size = 32, epochs = 100)"
   ]
  },
  {
   "cell_type": "code",
   "execution_count": 59,
   "id": "fe51b472",
   "metadata": {},
   "outputs": [
    {
     "name": "stdout",
     "output_type": "stream",
     "text": [
      "3750/3750 [==============================] - 4s 1ms/step\n",
      "[[59795    12]\n",
      " [  246 59947]]\n",
      "Accuracy is : 99.785 %\n"
     ]
    }
   ],
   "source": [
    "y_pred = ann.predict(X_test)\n",
    "y_pred = (y_pred > 0.5)\n",
    "\n",
    "from sklearn.metrics import confusion_matrix, accuracy_score\n",
    "cm = confusion_matrix(y_test, y_pred)\n",
    "print(cm)\n",
    "acc=accuracy_score(y_test, y_pred)\n",
    "print(\"Accuracy is :\", acc*100,\"%\")"
   ]
  }
 ],
 "metadata": {
  "kernelspec": {
   "display_name": "Python 3 (ipykernel)",
   "language": "python",
   "name": "python3"
  },
  "language_info": {
   "codemirror_mode": {
    "name": "ipython",
    "version": 3
   },
   "file_extension": ".py",
   "mimetype": "text/x-python",
   "name": "python",
   "nbconvert_exporter": "python",
   "pygments_lexer": "ipython3",
   "version": "3.9.7"
  }
 },
 "nbformat": 4,
 "nbformat_minor": 5
}
